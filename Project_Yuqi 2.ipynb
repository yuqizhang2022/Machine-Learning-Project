{
 "cells": [
  {
   "cell_type": "code",
   "execution_count": 2,
   "id": "28101ad3",
   "metadata": {
    "ExecuteTime": {
     "end_time": "2022-05-05T19:47:49.205985Z",
     "start_time": "2022-05-05T19:47:44.362725Z"
    }
   },
   "outputs": [],
   "source": [
    "import numpy as np\n",
    "import pandas as pd\n",
    "import matplotlib.pyplot as plt \n",
    "import seaborn as sns\n",
    "import re\n",
    "\n",
    "import sklearn\n",
    "from sklearn.model_selection import train_test_split\n",
    "from sklearn.preprocessing import MinMaxScaler\n",
    "from sklearn.preprocessing import PolynomialFeatures\n",
    "from sklearn.preprocessing import scale\n",
    "from sklearn.feature_selection import RFE\n",
    "from sklearn.linear_model import LinearRegression\n",
    "from sklearn.linear_model import LogisticRegression\n",
    "from sklearn.model_selection import cross_val_score\n",
    "from sklearn.model_selection import KFold\n",
    "from sklearn.model_selection import GridSearchCV\n",
    "from sklearn.pipeline import make_pipeline\n",
    "from sklearn.ensemble import RandomForestClassifier\n",
    "from sklearn.ensemble import RandomForestRegressor\n",
    "from sklearn.linear_model import LogisticRegressionCV\n",
    "from sklearn.model_selection import StratifiedShuffleSplit\n",
    "from sklearn.metrics import accuracy_score\n",
    "from sklearn.metrics import r2_score"
   ]
  },
  {
   "cell_type": "markdown",
   "id": "33808c99",
   "metadata": {},
   "source": [
    "### prepare"
   ]
  },
  {
   "cell_type": "code",
   "execution_count": 53,
   "id": "fa9406b8",
   "metadata": {
    "ExecuteTime": {
     "end_time": "2022-04-07T23:39:16.639874Z",
     "start_time": "2022-04-07T23:39:15.063522Z"
    }
   },
   "outputs": [
    {
     "data": {
      "text/html": [
       "<div>\n",
       "<style scoped>\n",
       "    .dataframe tbody tr th:only-of-type {\n",
       "        vertical-align: middle;\n",
       "    }\n",
       "\n",
       "    .dataframe tbody tr th {\n",
       "        vertical-align: top;\n",
       "    }\n",
       "\n",
       "    .dataframe thead th {\n",
       "        text-align: right;\n",
       "    }\n",
       "</style>\n",
       "<table border=\"1\" class=\"dataframe\">\n",
       "  <thead>\n",
       "    <tr style=\"text-align: right;\">\n",
       "      <th></th>\n",
       "      <th>Unnamed: 0</th>\n",
       "      <th>Value</th>\n",
       "      <th>S</th>\n",
       "      <th>K</th>\n",
       "      <th>tau</th>\n",
       "      <th>r</th>\n",
       "      <th>BS</th>\n",
       "      <th>BS_binary</th>\n",
       "      <th>KS_ratio</th>\n",
       "      <th>KS_diff</th>\n",
       "      <th>...</th>\n",
       "      <th>KS_tau_ratio</th>\n",
       "      <th>r_asset</th>\n",
       "      <th>risk_free_rate_abs</th>\n",
       "      <th>risk_free_rate_prop</th>\n",
       "      <th>S_expected</th>\n",
       "      <th>S_bin</th>\n",
       "      <th>K_bin</th>\n",
       "      <th>r_bin</th>\n",
       "      <th>is_low_K</th>\n",
       "      <th>is_high_r</th>\n",
       "    </tr>\n",
       "  </thead>\n",
       "  <tbody>\n",
       "    <tr>\n",
       "      <th>0</th>\n",
       "      <td>1675</td>\n",
       "      <td>NaN</td>\n",
       "      <td>431.618600</td>\n",
       "      <td>460</td>\n",
       "      <td>0.293651</td>\n",
       "      <td>0.03147</td>\n",
       "      <td>NaN</td>\n",
       "      <td>NaN</td>\n",
       "      <td>1.065756</td>\n",
       "      <td>28.381400</td>\n",
       "      <td>...</td>\n",
       "      <td>3.629330</td>\n",
       "      <td>0.242183</td>\n",
       "      <td>0.210713</td>\n",
       "      <td>0.870057</td>\n",
       "      <td>455.833554</td>\n",
       "      <td>1</td>\n",
       "      <td>4</td>\n",
       "      <td>5</td>\n",
       "      <td>0</td>\n",
       "      <td>1</td>\n",
       "    </tr>\n",
       "    <tr>\n",
       "      <th>1</th>\n",
       "      <td>1676</td>\n",
       "      <td>NaN</td>\n",
       "      <td>432.633296</td>\n",
       "      <td>420</td>\n",
       "      <td>0.182540</td>\n",
       "      <td>0.03147</td>\n",
       "      <td>NaN</td>\n",
       "      <td>NaN</td>\n",
       "      <td>0.970799</td>\n",
       "      <td>-12.633296</td>\n",
       "      <td>...</td>\n",
       "      <td>5.318291</td>\n",
       "      <td>-0.149858</td>\n",
       "      <td>-0.181328</td>\n",
       "      <td>1.209998</td>\n",
       "      <td>417.631191</td>\n",
       "      <td>1</td>\n",
       "      <td>2</td>\n",
       "      <td>5</td>\n",
       "      <td>0</td>\n",
       "      <td>1</td>\n",
       "    </tr>\n",
       "    <tr>\n",
       "      <th>2</th>\n",
       "      <td>1677</td>\n",
       "      <td>NaN</td>\n",
       "      <td>432.633296</td>\n",
       "      <td>430</td>\n",
       "      <td>0.182540</td>\n",
       "      <td>0.03147</td>\n",
       "      <td>NaN</td>\n",
       "      <td>NaN</td>\n",
       "      <td>0.993913</td>\n",
       "      <td>-2.633296</td>\n",
       "      <td>...</td>\n",
       "      <td>5.444916</td>\n",
       "      <td>-0.032893</td>\n",
       "      <td>-0.064363</td>\n",
       "      <td>1.956735</td>\n",
       "      <td>427.574791</td>\n",
       "      <td>1</td>\n",
       "      <td>2</td>\n",
       "      <td>5</td>\n",
       "      <td>0</td>\n",
       "      <td>1</td>\n",
       "    </tr>\n",
       "    <tr>\n",
       "      <th>3</th>\n",
       "      <td>1678</td>\n",
       "      <td>NaN</td>\n",
       "      <td>431.618600</td>\n",
       "      <td>415</td>\n",
       "      <td>0.293651</td>\n",
       "      <td>0.03147</td>\n",
       "      <td>NaN</td>\n",
       "      <td>NaN</td>\n",
       "      <td>0.961497</td>\n",
       "      <td>-16.618600</td>\n",
       "      <td>...</td>\n",
       "      <td>3.274287</td>\n",
       "      <td>-0.125156</td>\n",
       "      <td>-0.156626</td>\n",
       "      <td>1.251447</td>\n",
       "      <td>411.241141</td>\n",
       "      <td>1</td>\n",
       "      <td>1</td>\n",
       "      <td>5</td>\n",
       "      <td>0</td>\n",
       "      <td>1</td>\n",
       "    </tr>\n",
       "    <tr>\n",
       "      <th>4</th>\n",
       "      <td>1679</td>\n",
       "      <td>NaN</td>\n",
       "      <td>434.772855</td>\n",
       "      <td>420</td>\n",
       "      <td>0.043651</td>\n",
       "      <td>0.03147</td>\n",
       "      <td>NaN</td>\n",
       "      <td>NaN</td>\n",
       "      <td>0.966022</td>\n",
       "      <td>-14.772855</td>\n",
       "      <td>...</td>\n",
       "      <td>22.130678</td>\n",
       "      <td>-0.547037</td>\n",
       "      <td>-0.578507</td>\n",
       "      <td>1.057528</td>\n",
       "      <td>419.432326</td>\n",
       "      <td>2</td>\n",
       "      <td>2</td>\n",
       "      <td>5</td>\n",
       "      <td>0</td>\n",
       "      <td>1</td>\n",
       "    </tr>\n",
       "  </tbody>\n",
       "</table>\n",
       "<p>5 rows × 23 columns</p>\n",
       "</div>"
      ],
      "text/plain": [
       "   Unnamed: 0  Value           S    K       tau        r  BS  BS_binary  \\\n",
       "0        1675    NaN  431.618600  460  0.293651  0.03147 NaN        NaN   \n",
       "1        1676    NaN  432.633296  420  0.182540  0.03147 NaN        NaN   \n",
       "2        1677    NaN  432.633296  430  0.182540  0.03147 NaN        NaN   \n",
       "3        1678    NaN  431.618600  415  0.293651  0.03147 NaN        NaN   \n",
       "4        1679    NaN  434.772855  420  0.043651  0.03147 NaN        NaN   \n",
       "\n",
       "   KS_ratio    KS_diff  ...  KS_tau_ratio   r_asset  risk_free_rate_abs  \\\n",
       "0  1.065756  28.381400  ...      3.629330  0.242183            0.210713   \n",
       "1  0.970799 -12.633296  ...      5.318291 -0.149858           -0.181328   \n",
       "2  0.993913  -2.633296  ...      5.444916 -0.032893           -0.064363   \n",
       "3  0.961497 -16.618600  ...      3.274287 -0.125156           -0.156626   \n",
       "4  0.966022 -14.772855  ...     22.130678 -0.547037           -0.578507   \n",
       "\n",
       "   risk_free_rate_prop  S_expected  S_bin  K_bin  r_bin  is_low_K  is_high_r  \n",
       "0             0.870057  455.833554      1      4      5         0          1  \n",
       "1             1.209998  417.631191      1      2      5         0          1  \n",
       "2             1.956735  427.574791      1      2      5         0          1  \n",
       "3             1.251447  411.241141      1      1      5         0          1  \n",
       "4             1.057528  419.432326      2      2      5         0          1  \n",
       "\n",
       "[5 rows x 23 columns]"
      ]
     },
     "execution_count": 53,
     "metadata": {},
     "output_type": "execute_result"
    }
   ],
   "source": [
    "test=pd.read_excel('option_test_feature_added.xlsx')\n",
    "train=pd.read_excel('option_train_feature_added.xlsx')\n",
    "test.head()"
   ]
  },
  {
   "cell_type": "code",
   "execution_count": 51,
   "id": "4804c24e",
   "metadata": {
    "ExecuteTime": {
     "end_time": "2022-04-07T23:37:02.230119Z",
     "start_time": "2022-04-07T23:37:02.214131Z"
    }
   },
   "outputs": [],
   "source": [
    "# X_train=train.loc[:,rankedvariable]\n",
    "# X_test=test.loc[:,rankedvariable]"
   ]
  },
  {
   "cell_type": "code",
   "execution_count": 3,
   "id": "044e9528",
   "metadata": {
    "ExecuteTime": {
     "end_time": "2022-05-05T08:04:50.531248Z",
     "start_time": "2022-05-05T08:04:50.498407Z"
    }
   },
   "outputs": [],
   "source": [
    "X_train,X_test=train_test_split(train,test_size=0.3,random_state=2,stratify=train['BS_binary'])"
   ]
  },
  {
   "cell_type": "markdown",
   "id": "5079d7e8",
   "metadata": {},
   "source": [
    "### start here"
   ]
  },
  {
   "cell_type": "code",
   "execution_count": 3,
   "id": "1c7a0075",
   "metadata": {
    "ExecuteTime": {
     "end_time": "2022-05-05T19:47:53.280934Z",
     "start_time": "2022-05-05T19:47:53.204371Z"
    },
    "scrolled": true
   },
   "outputs": [
    {
     "data": {
      "text/html": [
       "<div>\n",
       "<style scoped>\n",
       "    .dataframe tbody tr th:only-of-type {\n",
       "        vertical-align: middle;\n",
       "    }\n",
       "\n",
       "    .dataframe tbody tr th {\n",
       "        vertical-align: top;\n",
       "    }\n",
       "\n",
       "    .dataframe thead th {\n",
       "        text-align: right;\n",
       "    }\n",
       "</style>\n",
       "<table border=\"1\" class=\"dataframe\">\n",
       "  <thead>\n",
       "    <tr style=\"text-align: right;\">\n",
       "      <th></th>\n",
       "      <th>Value</th>\n",
       "      <th>S</th>\n",
       "      <th>K</th>\n",
       "      <th>tau</th>\n",
       "      <th>r</th>\n",
       "      <th>BS</th>\n",
       "      <th>BS_binary</th>\n",
       "      <th>KS_ratio</th>\n",
       "      <th>KS_diff</th>\n",
       "      <th>risk_free_FV</th>\n",
       "      <th>...</th>\n",
       "      <th>KS_tau_ratio</th>\n",
       "      <th>r_asset</th>\n",
       "      <th>risk_free_rate_abs</th>\n",
       "      <th>risk_free_rate_prop</th>\n",
       "      <th>S_expected</th>\n",
       "      <th>S_bin</th>\n",
       "      <th>K_bin</th>\n",
       "      <th>r_bin</th>\n",
       "      <th>is_low_K</th>\n",
       "      <th>is_high_r</th>\n",
       "    </tr>\n",
       "    <tr>\n",
       "      <th>Unnamed: 0</th>\n",
       "      <th></th>\n",
       "      <th></th>\n",
       "      <th></th>\n",
       "      <th></th>\n",
       "      <th></th>\n",
       "      <th></th>\n",
       "      <th></th>\n",
       "      <th></th>\n",
       "      <th></th>\n",
       "      <th></th>\n",
       "      <th></th>\n",
       "      <th></th>\n",
       "      <th></th>\n",
       "      <th></th>\n",
       "      <th></th>\n",
       "      <th></th>\n",
       "      <th></th>\n",
       "      <th></th>\n",
       "      <th></th>\n",
       "      <th></th>\n",
       "      <th></th>\n",
       "    </tr>\n",
       "  </thead>\n",
       "  <tbody>\n",
       "    <tr>\n",
       "      <th>688</th>\n",
       "      <td>13.026420</td>\n",
       "      <td>443.816419</td>\n",
       "      <td>440</td>\n",
       "      <td>0.257937</td>\n",
       "      <td>0.03003</td>\n",
       "      <td>Under</td>\n",
       "      <td>0</td>\n",
       "      <td>0.991401</td>\n",
       "      <td>-3.816419</td>\n",
       "      <td>447.216498</td>\n",
       "      <td>...</td>\n",
       "      <td>3.843585</td>\n",
       "      <td>-0.032928</td>\n",
       "      <td>-0.062958</td>\n",
       "      <td>1.911993</td>\n",
       "      <td>436.654786</td>\n",
       "      <td>3</td>\n",
       "      <td>3</td>\n",
       "      <td>2</td>\n",
       "      <td>0</td>\n",
       "      <td>0</td>\n",
       "    </tr>\n",
       "    <tr>\n",
       "      <th>1078</th>\n",
       "      <td>0.125001</td>\n",
       "      <td>448.076828</td>\n",
       "      <td>500</td>\n",
       "      <td>0.313492</td>\n",
       "      <td>0.02972</td>\n",
       "      <td>Over</td>\n",
       "      <td>1</td>\n",
       "      <td>1.115880</td>\n",
       "      <td>51.923172</td>\n",
       "      <td>452.209662</td>\n",
       "      <td>...</td>\n",
       "      <td>3.559516</td>\n",
       "      <td>0.418711</td>\n",
       "      <td>0.388991</td>\n",
       "      <td>0.929020</td>\n",
       "      <td>495.430401</td>\n",
       "      <td>5</td>\n",
       "      <td>5</td>\n",
       "      <td>1</td>\n",
       "      <td>0</td>\n",
       "      <td>0</td>\n",
       "    </tr>\n",
       "  </tbody>\n",
       "</table>\n",
       "<p>2 rows × 22 columns</p>\n",
       "</div>"
      ],
      "text/plain": [
       "                Value           S    K       tau        r     BS  BS_binary  \\\n",
       "Unnamed: 0                                                                    \n",
       "688         13.026420  443.816419  440  0.257937  0.03003  Under          0   \n",
       "1078         0.125001  448.076828  500  0.313492  0.02972   Over          1   \n",
       "\n",
       "            KS_ratio    KS_diff  risk_free_FV  ...  KS_tau_ratio   r_asset  \\\n",
       "Unnamed: 0                                     ...                           \n",
       "688         0.991401  -3.816419    447.216498  ...      3.843585 -0.032928   \n",
       "1078        1.115880  51.923172    452.209662  ...      3.559516  0.418711   \n",
       "\n",
       "            risk_free_rate_abs  risk_free_rate_prop  S_expected  S_bin  K_bin  \\\n",
       "Unnamed: 0                                                                      \n",
       "688                  -0.062958             1.911993  436.654786      3      3   \n",
       "1078                  0.388991             0.929020  495.430401      5      5   \n",
       "\n",
       "            r_bin  is_low_K  is_high_r  \n",
       "Unnamed: 0                              \n",
       "688             2         0          0  \n",
       "1078            1         0          0  \n",
       "\n",
       "[2 rows x 22 columns]"
      ]
     },
     "execution_count": 3,
     "metadata": {},
     "output_type": "execute_result"
    }
   ],
   "source": [
    "trainset=pd.read_csv('train.csv',index_col=0)\n",
    "trainset.head(2)"
   ]
  },
  {
   "cell_type": "code",
   "execution_count": 4,
   "id": "88d33a00",
   "metadata": {
    "ExecuteTime": {
     "end_time": "2022-05-05T19:47:55.041597Z",
     "start_time": "2022-05-05T19:47:54.983606Z"
    }
   },
   "outputs": [
    {
     "data": {
      "text/html": [
       "<div>\n",
       "<style scoped>\n",
       "    .dataframe tbody tr th:only-of-type {\n",
       "        vertical-align: middle;\n",
       "    }\n",
       "\n",
       "    .dataframe tbody tr th {\n",
       "        vertical-align: top;\n",
       "    }\n",
       "\n",
       "    .dataframe thead th {\n",
       "        text-align: right;\n",
       "    }\n",
       "</style>\n",
       "<table border=\"1\" class=\"dataframe\">\n",
       "  <thead>\n",
       "    <tr style=\"text-align: right;\">\n",
       "      <th></th>\n",
       "      <th>Value</th>\n",
       "      <th>S</th>\n",
       "      <th>K</th>\n",
       "      <th>tau</th>\n",
       "      <th>r</th>\n",
       "      <th>BS</th>\n",
       "      <th>BS_binary</th>\n",
       "      <th>KS_ratio</th>\n",
       "      <th>KS_diff</th>\n",
       "      <th>risk_free_FV</th>\n",
       "      <th>...</th>\n",
       "      <th>KS_tau_ratio</th>\n",
       "      <th>r_asset</th>\n",
       "      <th>risk_free_rate_abs</th>\n",
       "      <th>risk_free_rate_prop</th>\n",
       "      <th>S_expected</th>\n",
       "      <th>S_bin</th>\n",
       "      <th>K_bin</th>\n",
       "      <th>r_bin</th>\n",
       "      <th>is_low_K</th>\n",
       "      <th>is_high_r</th>\n",
       "    </tr>\n",
       "    <tr>\n",
       "      <th>Unnamed: 0</th>\n",
       "      <th></th>\n",
       "      <th></th>\n",
       "      <th></th>\n",
       "      <th></th>\n",
       "      <th></th>\n",
       "      <th></th>\n",
       "      <th></th>\n",
       "      <th></th>\n",
       "      <th></th>\n",
       "      <th></th>\n",
       "      <th></th>\n",
       "      <th></th>\n",
       "      <th></th>\n",
       "      <th></th>\n",
       "      <th></th>\n",
       "      <th></th>\n",
       "      <th></th>\n",
       "      <th></th>\n",
       "      <th></th>\n",
       "      <th></th>\n",
       "      <th></th>\n",
       "    </tr>\n",
       "  </thead>\n",
       "  <tbody>\n",
       "    <tr>\n",
       "      <th>1274</th>\n",
       "      <td>32.175766</td>\n",
       "      <td>429.314292</td>\n",
       "      <td>400</td>\n",
       "      <td>0.150794</td>\n",
       "      <td>0.03085</td>\n",
       "      <td>Under</td>\n",
       "      <td>0</td>\n",
       "      <td>0.931718</td>\n",
       "      <td>-29.314292</td>\n",
       "      <td>431.285782</td>\n",
       "      <td>...</td>\n",
       "      <td>6.178764</td>\n",
       "      <td>-0.374383</td>\n",
       "      <td>-0.405233</td>\n",
       "      <td>1.082402</td>\n",
       "      <td>398.171524</td>\n",
       "      <td>1</td>\n",
       "      <td>1</td>\n",
       "      <td>5</td>\n",
       "      <td>1</td>\n",
       "      <td>0</td>\n",
       "    </tr>\n",
       "    <tr>\n",
       "      <th>1527</th>\n",
       "      <td>0.345000</td>\n",
       "      <td>447.580024</td>\n",
       "      <td>465</td>\n",
       "      <td>0.087302</td>\n",
       "      <td>0.02982</td>\n",
       "      <td>Over</td>\n",
       "      <td>1</td>\n",
       "      <td>1.038920</td>\n",
       "      <td>17.419976</td>\n",
       "      <td>448.729662</td>\n",
       "      <td>...</td>\n",
       "      <td>11.900361</td>\n",
       "      <td>0.548611</td>\n",
       "      <td>0.518791</td>\n",
       "      <td>0.945645</td>\n",
       "      <td>463.808677</td>\n",
       "      <td>4</td>\n",
       "      <td>5</td>\n",
       "      <td>2</td>\n",
       "      <td>0</td>\n",
       "      <td>0</td>\n",
       "    </tr>\n",
       "  </tbody>\n",
       "</table>\n",
       "<p>2 rows × 22 columns</p>\n",
       "</div>"
      ],
      "text/plain": [
       "                Value           S    K       tau        r     BS  BS_binary  \\\n",
       "Unnamed: 0                                                                    \n",
       "1274        32.175766  429.314292  400  0.150794  0.03085  Under          0   \n",
       "1527         0.345000  447.580024  465  0.087302  0.02982   Over          1   \n",
       "\n",
       "            KS_ratio    KS_diff  risk_free_FV  ...  KS_tau_ratio   r_asset  \\\n",
       "Unnamed: 0                                     ...                           \n",
       "1274        0.931718 -29.314292    431.285782  ...      6.178764 -0.374383   \n",
       "1527        1.038920  17.419976    448.729662  ...     11.900361  0.548611   \n",
       "\n",
       "            risk_free_rate_abs  risk_free_rate_prop  S_expected  S_bin  K_bin  \\\n",
       "Unnamed: 0                                                                      \n",
       "1274                 -0.405233             1.082402  398.171524      1      1   \n",
       "1527                  0.518791             0.945645  463.808677      4      5   \n",
       "\n",
       "            r_bin  is_low_K  is_high_r  \n",
       "Unnamed: 0                              \n",
       "1274            5         1          0  \n",
       "1527            2         0          0  \n",
       "\n",
       "[2 rows x 22 columns]"
      ]
     },
     "execution_count": 4,
     "metadata": {},
     "output_type": "execute_result"
    }
   ],
   "source": [
    "testset=pd.read_csv('test.csv',index_col=0)\n",
    "testset.head(2)"
   ]
  },
  {
   "cell_type": "code",
   "execution_count": 5,
   "id": "845756fc",
   "metadata": {
    "ExecuteTime": {
     "end_time": "2022-05-05T19:47:58.564701Z",
     "start_time": "2022-05-05T19:47:58.556013Z"
    }
   },
   "outputs": [],
   "source": [
    "basic_var=['r','K','tau','S']"
   ]
  },
  {
   "cell_type": "code",
   "execution_count": 4,
   "id": "3ff77411",
   "metadata": {
    "ExecuteTime": {
     "end_time": "2022-04-16T22:34:45.416973Z",
     "start_time": "2022-04-16T22:34:45.406941Z"
    },
    "scrolled": true
   },
   "outputs": [
    {
     "data": {
      "text/plain": [
       "19"
      ]
     },
     "execution_count": 4,
     "metadata": {},
     "output_type": "execute_result"
    }
   ],
   "source": [
    "class_rankedvariable = ['KS_ratio',\n",
    " 'risk_free_FV',\n",
    " 'r_bin',\n",
    " 'is_low_K',\n",
    " 'S_bin',\n",
    " 'KS_tau_ratio',\n",
    " 'S_expected',\n",
    " 'r',\n",
    " 'K_bin',\n",
    " 'r_asset',\n",
    " 'risk_free_gap_abs',\n",
    " 'K',\n",
    " 'risk_free_rate_abs',\n",
    " 'is_high_r',\n",
    " 'KS_diff',\n",
    " 'tau',\n",
    " 'S',\n",
    " 'risk_free_rate_prop',\n",
    " 'risk_free_gap_prop']\n",
    "len(class_rankedvariable)"
   ]
  },
  {
   "cell_type": "code",
   "execution_count": 8,
   "id": "ccc1e6c0",
   "metadata": {
    "ExecuteTime": {
     "end_time": "2022-04-16T22:36:55.387819Z",
     "start_time": "2022-04-16T22:36:55.356880Z"
    }
   },
   "outputs": [
    {
     "data": {
      "text/plain": [
       "19"
      ]
     },
     "execution_count": 8,
     "metadata": {},
     "output_type": "execute_result"
    }
   ],
   "source": [
    "reg_rankedvariable=['risk_free_gap_abs', 'tau', 'risk_free_rate_prop', 'risk_free_FV',\n",
    "                    'K', 'KS_tau_ratio', 'r_asset', 'K_bin', 'is_high_r', 'r_bin', 'r',\n",
    "                    'S', 'is_low_K', 'KS_diff', 'risk_free_gap_prop', 'KS_ratio',\n",
    "                    'S_bin', 'risk_free_rate_abs', 'S_expected']\n",
    "len(reg_rankedvariable)"
   ]
  },
  {
   "cell_type": "code",
   "execution_count": 6,
   "id": "cb1afd92",
   "metadata": {
    "ExecuteTime": {
     "end_time": "2022-05-05T19:48:14.500221Z",
     "start_time": "2022-05-05T19:48:14.491280Z"
    }
   },
   "outputs": [],
   "source": [
    "Y_train_num = pd.DataFrame(trainset.loc[:,'Value'])\n",
    "Y_train_cat = pd.DataFrame(trainset.loc[:,'BS_binary'])"
   ]
  },
  {
   "cell_type": "code",
   "execution_count": 7,
   "id": "fb9f0bf8",
   "metadata": {
    "ExecuteTime": {
     "end_time": "2022-05-05T19:48:16.326035Z",
     "start_time": "2022-05-05T19:48:16.301023Z"
    }
   },
   "outputs": [],
   "source": [
    "Y_train_num = pd.DataFrame(trainset.loc[:,'Value'])\n",
    "Y_train_cat = pd.DataFrame(trainset.loc[:,'BS_binary'])\n",
    "Y_test_num = pd.DataFrame(testset.loc[:,'Value'])\n",
    "Y_test_cat = pd.DataFrame(testset.loc[:,'BS_binary'])"
   ]
  },
  {
   "cell_type": "code",
   "execution_count": 6,
   "id": "8cbc1a9d",
   "metadata": {
    "ExecuteTime": {
     "end_time": "2022-04-16T22:34:49.318029Z",
     "start_time": "2022-04-16T22:34:49.313124Z"
    }
   },
   "outputs": [],
   "source": [
    "varnum=[3,5,10,15,19]"
   ]
  },
  {
   "cell_type": "markdown",
   "id": "5596a0e3",
   "metadata": {},
   "source": [
    "### Linear"
   ]
  },
  {
   "cell_type": "code",
   "execution_count": 12,
   "id": "bdbf14da",
   "metadata": {
    "ExecuteTime": {
     "end_time": "2022-05-05T19:55:59.276748Z",
     "start_time": "2022-05-05T19:55:59.165852Z"
    }
   },
   "outputs": [
    {
     "name": "stdout",
     "output_type": "stream",
     "text": [
      "r2 for Train Value: [0.90101548 0.89770844 0.91766737 0.92286711 0.90376414]\n",
      "mean r2: 0.908604506186391\n",
      "adjusted r2: 0.9082912397123084\n",
      "the best test score: 0.9124915375439029\n",
      "\n"
     ]
    }
   ],
   "source": [
    "# basic var\n",
    "kfolds_regression = KFold(n_splits = 5, random_state = 1, shuffle = True) \n",
    "regresssion_model = LinearRegression()\n",
    "\n",
    "var_to_consider=['r','K','tau','S']\n",
    "X_train=trainset[var_to_consider]\n",
    "X_test=testset[var_to_consider]\n",
    "r2_model_1_cv = cross_val_score(regresssion_model, X_train, Y_train_num.values.ravel(), \n",
    "                                    cv=kfolds_regression,scoring='r2')\n",
    "adj_r2=1-(1-np.mean(r2_model_1_cv))*(len(trainset)-1)/(len(trainset)-4-1)\n",
    "best_lm = regresssion_model.fit(X_train, Y_train_num.values.ravel())\n",
    "test_pred = best_lm.predict(X_test)\n",
    "test_score = r2_score(y_true = Y_test_num, y_pred = test_pred)\n",
    "print(f\"r2 for Train Value: {r2_model_1_cv}\\nmean r2: {np.mean(r2_model_1_cv)}\\nadjusted r2: {adj_r2}\")\n",
    "print(f'the best test score: {test_score}\\n')"
   ]
  },
  {
   "cell_type": "code",
   "execution_count": 9,
   "id": "bcf2750d",
   "metadata": {
    "ExecuteTime": {
     "end_time": "2022-04-16T22:37:01.549977Z",
     "start_time": "2022-04-16T22:37:01.257951Z"
    }
   },
   "outputs": [
    {
     "name": "stdout",
     "output_type": "stream",
     "text": [
      "-- variables to consider: 3 --\n",
      "r2 for Train Value: [0.90102576 0.89741859 0.91806814 0.92271792 0.90387966]\n",
      "mean r2: 0.9086220172226456\n",
      "adjusted r2: 0.9083873134997585\n",
      "the best test score: 0.9121968167598762\n",
      "\n",
      "-- variables to consider: 5 --\n",
      "r2 for Train Value: [0.90055498 0.89786329 0.91810496 0.92262489 0.90367175]\n",
      "mean r2: 0.908563975866668\n",
      "adjusted r2: 0.9081718831388236\n",
      "the best test score: 0.9115015945273724\n",
      "\n",
      "-- variables to consider: 10 --\n",
      "r2 for Train Value: [0.89892055 0.89899565 0.92018221 0.92338726 0.90334296]\n",
      "mean r2: 0.908965727293166\n",
      "adjusted r2: 0.9081816250304027\n",
      "the best test score: 0.9144359509687237\n",
      "\n",
      "-- variables to consider: 15 --\n",
      "r2 for Train Value: [0.9802915  0.98706906 0.98896129 0.98605047 0.98594374]\n",
      "mean r2: 0.9856632142091197\n",
      "adjusted r2: 0.9854771832516256\n",
      "the best test score: 0.9850534183420538\n",
      "\n",
      "-- variables to consider: 19 --\n",
      "r2 for Train Value: [0.99215485 0.99289668 0.99398559 0.99253754 0.99299887]\n",
      "mean r2: 0.9929147049346023\n",
      "adjusted r2: 0.9927978467694613\n",
      "the best test score: 0.9931814231201705\n",
      "\n"
     ]
    }
   ],
   "source": [
    "kfolds_regression = KFold(n_splits = 5, random_state = 1, shuffle = True) \n",
    "regresssion_model = LinearRegression()\n",
    "for i in varnum:\n",
    "    print(f'-- variables to consider: {i} --')\n",
    "    var_to_consider=reg_rankedvariable[:i]\n",
    "    X_train=trainset[var_to_consider]\n",
    "    X_test=testset[var_to_consider]\n",
    "    r2_model_1_cv = cross_val_score(regresssion_model, X_train, Y_train_num.values.ravel(), \n",
    "                                    cv=kfolds_regression,scoring='r2')\n",
    "    adj_r2=1-(1-np.mean(r2_model_1_cv))*(len(trainset)-1)/(len(trainset)-i-1)\n",
    "    best_lm = regresssion_model.fit(X_train, Y_train_num.values.ravel())\n",
    "    test_pred = best_lm.predict(X_test)\n",
    "    test_score = r2_score(y_true = Y_test_num, y_pred = test_pred)\n",
    "    print(f\"r2 for Train Value: {r2_model_1_cv}\\nmean r2: {np.mean(r2_model_1_cv)}\\nadjusted r2: {adj_r2}\")\n",
    "    print(f'the best test score: {test_score}\\n')"
   ]
  },
  {
   "cell_type": "markdown",
   "id": "41260b70",
   "metadata": {
    "heading_collapsed": true
   },
   "source": [
    "#### useless"
   ]
  },
  {
   "cell_type": "code",
   "execution_count": 38,
   "id": "1dbf68cb",
   "metadata": {
    "ExecuteTime": {
     "end_time": "2022-04-11T07:47:09.370981Z",
     "start_time": "2022-04-11T07:47:05.779553Z"
    },
    "hidden": true
   },
   "outputs": [
    {
     "name": "stdout",
     "output_type": "stream",
     "text": [
      "Fitting 5 folds for each of 20 candidates, totalling 100 fits\n"
     ]
    },
    {
     "data": {
      "text/plain": [
       "GridSearchCV(cv=KFold(n_splits=5, random_state=100, shuffle=True),\n",
       "             estimator=RFE(estimator=LinearRegression()),\n",
       "             param_grid=[{'n_features_to_select': [1, 2, 3, 4, 5, 6, 7, 8, 9,\n",
       "                                                   10, 11, 12, 13, 14, 15, 16,\n",
       "                                                   17, 18, 19, 20]}],\n",
       "             return_train_score=True, scoring='r2', verbose=1)"
      ]
     },
     "execution_count": 38,
     "metadata": {},
     "output_type": "execute_result"
    }
   ],
   "source": [
    "kfolds_regression = KFold(n_splits = 5, shuffle = True, random_state = 100)\n",
    "\n",
    "# step-2: specify range of hyperparameters to tune\n",
    "hyper_params = [{'n_features_to_select': list(range(1, 21))}]\n",
    "\n",
    "lm = LinearRegression()\n",
    "lm.fit(X_train, Y_train_num)\n",
    "rfe = RFE(lm)             \n",
    "\n",
    "# 3.2 call GridSearchCV()\n",
    "model_cv = GridSearchCV(estimator = rfe, \n",
    "                        param_grid = hyper_params, \n",
    "                        scoring= 'r2', \n",
    "                        cv = kfolds_regression, \n",
    "                        verbose = 1,\n",
    "                        return_train_score=True)      \n",
    "\n",
    "# fit the model\n",
    "model_cv.fit(X_train, Y_train_num)"
   ]
  },
  {
   "cell_type": "code",
   "execution_count": 39,
   "id": "87d38e9b",
   "metadata": {
    "ExecuteTime": {
     "end_time": "2022-04-11T07:47:15.392764Z",
     "start_time": "2022-04-11T07:47:15.373013Z"
    },
    "hidden": true,
    "scrolled": true
   },
   "outputs": [
    {
     "data": {
      "text/html": [
       "<div>\n",
       "<style scoped>\n",
       "    .dataframe tbody tr th:only-of-type {\n",
       "        vertical-align: middle;\n",
       "    }\n",
       "\n",
       "    .dataframe tbody tr th {\n",
       "        vertical-align: top;\n",
       "    }\n",
       "\n",
       "    .dataframe thead th {\n",
       "        text-align: right;\n",
       "    }\n",
       "</style>\n",
       "<table border=\"1\" class=\"dataframe\">\n",
       "  <thead>\n",
       "    <tr style=\"text-align: right;\">\n",
       "      <th></th>\n",
       "      <th>param_n_features_to_select</th>\n",
       "      <th>mean_test_score</th>\n",
       "      <th>mean_train_score</th>\n",
       "    </tr>\n",
       "  </thead>\n",
       "  <tbody>\n",
       "    <tr>\n",
       "      <th>0</th>\n",
       "      <td>1</td>\n",
       "      <td>0.527204</td>\n",
       "      <td>0.528763</td>\n",
       "    </tr>\n",
       "    <tr>\n",
       "      <th>1</th>\n",
       "      <td>2</td>\n",
       "      <td>0.878955</td>\n",
       "      <td>0.880505</td>\n",
       "    </tr>\n",
       "    <tr>\n",
       "      <th>2</th>\n",
       "      <td>3</td>\n",
       "      <td>0.879494</td>\n",
       "      <td>0.880628</td>\n",
       "    </tr>\n",
       "    <tr>\n",
       "      <th>3</th>\n",
       "      <td>4</td>\n",
       "      <td>0.910594</td>\n",
       "      <td>0.912097</td>\n",
       "    </tr>\n",
       "    <tr>\n",
       "      <th>4</th>\n",
       "      <td>5</td>\n",
       "      <td>0.910195</td>\n",
       "      <td>0.910582</td>\n",
       "    </tr>\n",
       "    <tr>\n",
       "      <th>5</th>\n",
       "      <td>6</td>\n",
       "      <td>0.910437</td>\n",
       "      <td>0.912260</td>\n",
       "    </tr>\n",
       "    <tr>\n",
       "      <th>6</th>\n",
       "      <td>7</td>\n",
       "      <td>0.910593</td>\n",
       "      <td>0.912591</td>\n",
       "    </tr>\n",
       "    <tr>\n",
       "      <th>7</th>\n",
       "      <td>8</td>\n",
       "      <td>0.910782</td>\n",
       "      <td>0.912087</td>\n",
       "    </tr>\n",
       "    <tr>\n",
       "      <th>8</th>\n",
       "      <td>9</td>\n",
       "      <td>0.911894</td>\n",
       "      <td>0.913715</td>\n",
       "    </tr>\n",
       "    <tr>\n",
       "      <th>9</th>\n",
       "      <td>10</td>\n",
       "      <td>0.992028</td>\n",
       "      <td>0.992242</td>\n",
       "    </tr>\n",
       "    <tr>\n",
       "      <th>10</th>\n",
       "      <td>11</td>\n",
       "      <td>0.992050</td>\n",
       "      <td>0.992308</td>\n",
       "    </tr>\n",
       "    <tr>\n",
       "      <th>11</th>\n",
       "      <td>12</td>\n",
       "      <td>0.992619</td>\n",
       "      <td>0.992965</td>\n",
       "    </tr>\n",
       "    <tr>\n",
       "      <th>12</th>\n",
       "      <td>13</td>\n",
       "      <td>0.992784</td>\n",
       "      <td>0.993167</td>\n",
       "    </tr>\n",
       "    <tr>\n",
       "      <th>13</th>\n",
       "      <td>14</td>\n",
       "      <td>0.992937</td>\n",
       "      <td>0.993364</td>\n",
       "    </tr>\n",
       "    <tr>\n",
       "      <th>14</th>\n",
       "      <td>15</td>\n",
       "      <td>0.992911</td>\n",
       "      <td>0.993376</td>\n",
       "    </tr>\n",
       "    <tr>\n",
       "      <th>15</th>\n",
       "      <td>16</td>\n",
       "      <td>0.993032</td>\n",
       "      <td>0.993440</td>\n",
       "    </tr>\n",
       "    <tr>\n",
       "      <th>16</th>\n",
       "      <td>17</td>\n",
       "      <td>0.993111</td>\n",
       "      <td>0.993641</td>\n",
       "    </tr>\n",
       "    <tr>\n",
       "      <th>17</th>\n",
       "      <td>18</td>\n",
       "      <td>0.993341</td>\n",
       "      <td>0.993714</td>\n",
       "    </tr>\n",
       "    <tr>\n",
       "      <th>18</th>\n",
       "      <td>19</td>\n",
       "      <td>0.993285</td>\n",
       "      <td>0.993700</td>\n",
       "    </tr>\n",
       "    <tr>\n",
       "      <th>19</th>\n",
       "      <td>20</td>\n",
       "      <td>0.993285</td>\n",
       "      <td>0.993700</td>\n",
       "    </tr>\n",
       "  </tbody>\n",
       "</table>\n",
       "</div>"
      ],
      "text/plain": [
       "   param_n_features_to_select  mean_test_score  mean_train_score\n",
       "0                           1         0.527204          0.528763\n",
       "1                           2         0.878955          0.880505\n",
       "2                           3         0.879494          0.880628\n",
       "3                           4         0.910594          0.912097\n",
       "4                           5         0.910195          0.910582\n",
       "5                           6         0.910437          0.912260\n",
       "6                           7         0.910593          0.912591\n",
       "7                           8         0.910782          0.912087\n",
       "8                           9         0.911894          0.913715\n",
       "9                          10         0.992028          0.992242\n",
       "10                         11         0.992050          0.992308\n",
       "11                         12         0.992619          0.992965\n",
       "12                         13         0.992784          0.993167\n",
       "13                         14         0.992937          0.993364\n",
       "14                         15         0.992911          0.993376\n",
       "15                         16         0.993032          0.993440\n",
       "16                         17         0.993111          0.993641\n",
       "17                         18         0.993341          0.993714\n",
       "18                         19         0.993285          0.993700\n",
       "19                         20         0.993285          0.993700"
      ]
     },
     "execution_count": 39,
     "metadata": {},
     "output_type": "execute_result"
    }
   ],
   "source": [
    "cv_results = pd.DataFrame(model_cv.cv_results_)\n",
    "cv_results.loc[:,['param_n_features_to_select','mean_test_score','mean_train_score']]"
   ]
  },
  {
   "cell_type": "code",
   "execution_count": 40,
   "id": "412416d8",
   "metadata": {
    "ExecuteTime": {
     "end_time": "2022-04-11T07:47:19.437740Z",
     "start_time": "2022-04-11T07:47:19.082068Z"
    },
    "hidden": true
   },
   "outputs": [
    {
     "data": {
      "text/plain": [
       "<matplotlib.legend.Legend at 0x7f80342b90d0>"
      ]
     },
     "execution_count": 40,
     "metadata": {},
     "output_type": "execute_result"
    },
    {
     "data": {
      "image/png": "[encoded data removed]",
      "text/plain": [
       "<Figure size 1152x432 with 1 Axes>"
      ]
     },
     "metadata": {
      "needs_background": "light"
     },
     "output_type": "display_data"
    }
   ],
   "source": [
    "# plotting cv results\n",
    "plt.figure(figsize=(16,6))\n",
    "\n",
    "plt.plot(cv_results[\"param_n_features_to_select\"], cv_results[\"mean_test_score\"])\n",
    "plt.plot(cv_results[\"param_n_features_to_select\"], cv_results[\"mean_train_score\"])\n",
    "plt.xlabel('number of features')\n",
    "plt.ylabel('r-squared')\n",
    "plt.title(\"Optimal Number of Features\")\n",
    "plt.legend(['test score', 'train score'], loc='upper left')"
   ]
  },
  {
   "cell_type": "code",
   "execution_count": 41,
   "id": "aa162e17",
   "metadata": {
    "ExecuteTime": {
     "end_time": "2022-04-11T07:51:12.030515Z",
     "start_time": "2022-04-11T07:51:11.877735Z"
    },
    "hidden": true
   },
   "outputs": [
    {
     "name": "stdout",
     "output_type": "stream",
     "text": [
      "0.9931929436640493\n"
     ]
    }
   ],
   "source": [
    "# final model\n",
    "n_features_optimal = 9\n",
    "\n",
    "lm = LinearRegression()\n",
    "lm.fit(X_train, Y_train_num)\n",
    "\n",
    "rfe = RFE(lm, n_features_to_select=n_features_optimal)             \n",
    "rfe = rfe.fit(X_train, Y_train_num)\n",
    "\n",
    "# predict prices of X_test\n",
    "Y_pred_num = lm.predict(X_test)\n",
    "r2 = sklearn.metrics.r2_score(Y_test_num, Y_pred_num)\n",
    "print(r2)"
   ]
  },
  {
   "cell_type": "markdown",
   "id": "44832423",
   "metadata": {},
   "source": [
    "### Logistic"
   ]
  },
  {
   "cell_type": "code",
   "execution_count": 13,
   "id": "023956c5",
   "metadata": {
    "ExecuteTime": {
     "end_time": "2022-05-05T19:58:19.458512Z",
     "start_time": "2022-05-05T19:58:19.241841Z"
    }
   },
   "outputs": [
    {
     "name": "stdout",
     "output_type": "stream",
     "text": [
      "accuracy for Train BS_binary: [0.90638298 0.92340426 0.91452991 0.93162393 0.9017094 ] \n",
      "mean accuracy: 0.9155300963811603)\n",
      "the best test score: 0.8986083499005965\n",
      "\n"
     ]
    }
   ],
   "source": [
    "kfolds_regresssion = KFold(n_splits = 5, random_state = 1, shuffle = True) \n",
    "logistic_model = LogisticRegression(penalty='none', max_iter = 10000)\n",
    "var_to_consider=['r','K','tau','S']\n",
    "X_train=trainset[var_to_consider]\n",
    "X_test=testset[var_to_consider]\n",
    "acc_model_2_cv = cross_val_score(logistic_model, X_train, Y_train_cat.values.ravel(), cv=kfolds_regresssion,scoring='accuracy')\n",
    "best_lm = logistic_model.fit(X_train, Y_train_cat.values.ravel())\n",
    "test_pred = best_lm.predict(X_test)\n",
    "test_score = accuracy_score(y_true = Y_test_cat, y_pred = test_pred)\n",
    "print(f\"accuracy for Train BS_binary: {acc_model_2_cv} \\nmean accuracy: {np.mean(acc_model_2_cv)})\")\n",
    "print(f'the best test score: {test_score}\\n')"
   ]
  },
  {
   "cell_type": "code",
   "execution_count": 17,
   "id": "346006a1",
   "metadata": {
    "ExecuteTime": {
     "end_time": "2022-04-11T21:18:48.200811Z",
     "start_time": "2022-04-11T21:18:45.421531Z"
    }
   },
   "outputs": [
    {
     "name": "stdout",
     "output_type": "stream",
     "text": [
      "-- variables to consider: 3 --\n",
      "accuracy for Train BS_binary: [0.91489362 0.92765957 0.90598291 0.93589744 0.9017094 ] \n",
      "mean accuracy: 0.9172285870158211)\n",
      "the best test score: 0.8906560636182903\n",
      "\n",
      "-- variables to consider: 5 --\n",
      "accuracy for Train BS_binary: [0.91489362 0.91914894 0.90598291 0.91880342 0.88034188] \n",
      "mean accuracy: 0.9078341516639388)\n",
      "the best test score: 0.9085487077534792\n",
      "\n",
      "-- variables to consider: 10 --\n",
      "accuracy for Train BS_binary: [0.91914894 0.92765957 0.91880342 0.93589744 0.9017094 ] \n",
      "mean accuracy: 0.9206437534097109)\n",
      "the best test score: 0.9165009940357853\n",
      "\n",
      "-- variables to consider: 15 --\n",
      "accuracy for Train BS_binary: [0.91914894 0.93191489 0.91880342 0.92735043 0.89316239] \n",
      "mean accuracy: 0.9180760138206947)\n",
      "the best test score: 0.9125248508946322\n",
      "\n",
      "-- variables to consider: 19 --\n",
      "accuracy for Train BS_binary: [0.91914894 0.92765957 0.91452991 0.92307692 0.8974359 ] \n",
      "mean accuracy: 0.9163702491362067)\n",
      "the best test score: 0.9125248508946322\n",
      "\n"
     ]
    }
   ],
   "source": [
    "kfolds_regresssion = KFold(n_splits = 5, random_state = 1, shuffle = True) \n",
    "logistic_model = LogisticRegression(penalty='none', max_iter = 10000)\n",
    "for i in varnum:\n",
    "    print(f'-- variables to consider: {i} --')\n",
    "    var_to_consider=class_rankedvariable[:i]\n",
    "    X_train=trainset[var_to_consider]\n",
    "    X_test=testset[var_to_consider]\n",
    "    acc_model_2_cv = cross_val_score(logistic_model, X_train, Y_train_cat.values.ravel(), cv=kfolds_regresssion,scoring='accuracy')\n",
    "    best_lm = logistic_model.fit(X_train, Y_train_cat.values.ravel())\n",
    "    test_pred = best_lm.predict(X_test)\n",
    "    test_score = accuracy_score(y_true = Y_test_cat, y_pred = test_pred)\n",
    "    print(f\"accuracy for Train BS_binary: {acc_model_2_cv} \\nmean accuracy: {np.mean(acc_model_2_cv)})\")\n",
    "    print(f'the best test score: {test_score}\\n')"
   ]
  },
  {
   "cell_type": "markdown",
   "id": "3f6b40f0",
   "metadata": {},
   "source": [
    "### Random Forest"
   ]
  },
  {
   "cell_type": "code",
   "execution_count": 18,
   "id": "2cb34c6a",
   "metadata": {
    "ExecuteTime": {
     "end_time": "2022-04-11T21:42:24.496547Z",
     "start_time": "2022-04-11T21:19:26.494375Z"
    }
   },
   "outputs": [
    {
     "name": "stdout",
     "output_type": "stream",
     "text": [
      "-- variables to consider: 3 --\n",
      "the best set of parameters: {'max_depth': 20, 'min_samples_leaf': 1, 'min_samples_split': 2, 'n_estimators': 10}\n",
      "the best train score: 0.9292016730314602\n",
      "the best test score: 0.9204771371769384\n",
      "\n",
      "-- variables to consider: 5 --\n",
      "the best set of parameters: {'max_depth': 15, 'min_samples_leaf': 1, 'min_samples_split': 5, 'n_estimators': 10}\n",
      "the best train score: 0.9283396981269323\n",
      "the best test score: 0.9264413518886679\n",
      "\n",
      "-- variables to consider: 10 --\n",
      "the best set of parameters: {'max_depth': 25, 'min_samples_leaf': 4, 'min_samples_split': 5, 'n_estimators': 10}\n",
      "the best train score: 0.9274959083469723\n",
      "the best test score: 0.9324055666003976\n",
      "\n",
      "-- variables to consider: 15 --\n",
      "the best set of parameters: {'max_depth': 20, 'min_samples_leaf': 2, 'min_samples_split': 10, 'n_estimators': 60}\n",
      "the best train score: 0.9274849972722313\n",
      "the best test score: 0.9324055666003976\n",
      "\n",
      "-- variables to consider: 19 --\n",
      "the best set of parameters: {'max_depth': 10, 'min_samples_leaf': 1, 'min_samples_split': 5, 'n_estimators': 50}\n",
      "the best train score: 0.9257755955628296\n",
      "the best test score: 0.9324055666003976\n",
      "\n"
     ]
    }
   ],
   "source": [
    "# accuracy, BS_binary\n",
    "for i in varnum:   \n",
    "    print(f'-- variables to consider: {i} --')\n",
    "    var_to_consider=class_rankedvariable[:i]\n",
    "    X_train=trainset[var_to_consider]\n",
    "    X_test=testset[var_to_consider]\n",
    "    rfc = RandomForestClassifier()\n",
    "    forest_params = [{'n_estimators':list(range(10, 100,10)),'max_depth': list(range(5, 30,5)),\n",
    "                     'min_samples_split':[2,5,10],'min_samples_leaf':[1,2,4]}]\n",
    "    clf = GridSearchCV(rfc, forest_params, cv = 5, scoring='accuracy')\n",
    "    grid_result_rfc=clf.fit(X_train, Y_train_cat.values.ravel())\n",
    "    best_params_rfc = grid_result_rfc.best_params_\n",
    "    best_score = grid_result_rfc.best_score_\n",
    "    \n",
    "    best_rfc = RandomForestClassifier(n_estimators=best_params_rfc['n_estimators'],\n",
    "                                     max_depth=best_params_rfc['max_depth'],\n",
    "                                     min_samples_split=best_params_rfc['min_samples_split'],\n",
    "                                     min_samples_leaf=best_params_rfc['min_samples_leaf'])\n",
    "    best_rfc.fit(X_train, Y_train_cat.values.ravel())\n",
    "    test_pred = best_rfc.predict(X_test)\n",
    "    test_score = accuracy_score(y_true = Y_test_cat, y_pred = test_pred)\n",
    "    print(f'the best set of parameters: {best_params_rfc}') \n",
    "    print(f'the best train score: {best_score}') \n",
    "    print(f'the best test score: {test_score}\\n')"
   ]
  },
  {
   "cell_type": "code",
   "execution_count": 11,
   "id": "dd8c8078",
   "metadata": {
    "ExecuteTime": {
     "end_time": "2022-04-16T23:45:49.098114Z",
     "start_time": "2022-04-16T22:38:43.305930Z"
    }
   },
   "outputs": [
    {
     "name": "stdout",
     "output_type": "stream",
     "text": [
      "-- variables to consider: 3 --\n",
      "the best set of parameters: {'max_depth': 10, 'min_samples_leaf': 1, 'min_samples_split': 2, 'n_estimators': 90}\n",
      "the best train score: 0.9984112369020008\n",
      "the best test score: 0.9988727353093056\n",
      "\n",
      "-- variables to consider: 5 --\n",
      "the best set of parameters: {'max_depth': 30, 'min_samples_leaf': 1, 'min_samples_split': 2, 'n_estimators': 80}\n",
      "the best train score: 0.9983670872228998\n",
      "the best test score: 0.9988822654792106\n",
      "\n",
      "-- variables to consider: 10 --\n",
      "the best set of parameters: {'max_depth': 25, 'min_samples_leaf': 1, 'min_samples_split': 2, 'n_estimators': 90}\n",
      "the best train score: 0.9983853502543638\n",
      "the best test score: 0.9989072567038196\n",
      "\n",
      "-- variables to consider: 15 --\n",
      "the best set of parameters: {'max_depth': 25, 'min_samples_leaf': 1, 'min_samples_split': 2, 'n_estimators': 70}\n",
      "the best train score: 0.9982747638036912\n",
      "the best test score: 0.9987324229137176\n",
      "\n",
      "-- variables to consider: 19 --\n",
      "the best set of parameters: {'max_depth': 10, 'min_samples_leaf': 1, 'min_samples_split': 2, 'n_estimators': 30}\n",
      "the best train score: 0.9982115946097988\n",
      "the best test score: 0.9985584535281152\n",
      "\n"
     ]
    }
   ],
   "source": [
    "# r2, Value\n",
    "for i in varnum:   \n",
    "    print(f'-- variables to consider: {i} --')\n",
    "    var_to_consider=reg_rankedvariable[:i]\n",
    "    X_train=trainset[var_to_consider]\n",
    "    X_test=testset[var_to_consider]\n",
    "    rfr = RandomForestRegressor()\n",
    "    forest_params = [{'n_estimators':list(range(10, 100,10)),'max_depth': list(range(5, 31,5)),\n",
    "                     'min_samples_split':[2,5,10],'min_samples_leaf':[1,2,4]}]\n",
    "    clf = GridSearchCV(rfr, forest_params, cv = 5, scoring='r2')\n",
    "    grid_result_rfr=clf.fit(X_train, Y_train_num.values.ravel())\n",
    "    best_params_rfr = grid_result_rfr.best_params_\n",
    "    best_score = grid_result_rfr.best_score_\n",
    "    \n",
    "    best_rfr = RandomForestRegressor(n_estimators=best_params_rfr['n_estimators'],\n",
    "                                     max_depth=best_params_rfr['max_depth'],\n",
    "                                     min_samples_split=best_params_rfr['min_samples_split'],\n",
    "                                     min_samples_leaf=best_params_rfr['min_samples_leaf'])\n",
    "    best_rfr.fit(X_train, Y_train_num.values.ravel())\n",
    "    test_pred = best_rfr.predict(X_test)\n",
    "    test_score = r2_score(y_true = Y_test_num, y_pred = test_pred)\n",
    "    print(f'the best set of parameters: {best_params_rfr}') \n",
    "    print(f'the best train score: {best_score}') \n",
    "    print(f'the best test score: {test_score}\\n')"
   ]
  },
  {
   "cell_type": "markdown",
   "id": "81dd4ac3",
   "metadata": {
    "heading_collapsed": true
   },
   "source": [
    "### backup"
   ]
  },
  {
   "cell_type": "code",
   "execution_count": 10,
   "id": "1beda9c9",
   "metadata": {
    "ExecuteTime": {
     "end_time": "2022-04-16T22:37:43.374626Z",
     "start_time": "2022-04-16T22:37:12.044003Z"
    },
    "collapsed": true,
    "hidden": true
   },
   "outputs": [
    {
     "name": "stdout",
     "output_type": "stream",
     "text": [
      "-- variables to consider: 3 --\n"
     ]
    },
    {
     "ename": "KeyboardInterrupt",
     "evalue": "",
     "output_type": "error",
     "traceback": [
      "\u001b[0;31m---------------------------------------------------------------------------\u001b[0m",
      "\u001b[0;31mKeyboardInterrupt\u001b[0m                         Traceback (most recent call last)",
      "Input \u001b[0;32mIn [10]\u001b[0m, in \u001b[0;36m<cell line: 2>\u001b[0;34m()\u001b[0m\n\u001b[1;32m      8\u001b[0m forest_params \u001b[38;5;241m=\u001b[39m [{\u001b[38;5;124m'\u001b[39m\u001b[38;5;124mn_estimators\u001b[39m\u001b[38;5;124m'\u001b[39m:\u001b[38;5;28mlist\u001b[39m(\u001b[38;5;28mrange\u001b[39m(\u001b[38;5;241m10\u001b[39m, \u001b[38;5;241m100\u001b[39m,\u001b[38;5;241m10\u001b[39m)),\u001b[38;5;124m'\u001b[39m\u001b[38;5;124mmax_depth\u001b[39m\u001b[38;5;124m'\u001b[39m: \u001b[38;5;28mlist\u001b[39m(\u001b[38;5;28mrange\u001b[39m(\u001b[38;5;241m5\u001b[39m, \u001b[38;5;241m30\u001b[39m,\u001b[38;5;241m5\u001b[39m))}]\n\u001b[1;32m      9\u001b[0m clf \u001b[38;5;241m=\u001b[39m GridSearchCV(rfr, forest_params, cv \u001b[38;5;241m=\u001b[39m \u001b[38;5;241m5\u001b[39m, scoring\u001b[38;5;241m=\u001b[39m\u001b[38;5;124m'\u001b[39m\u001b[38;5;124mr2\u001b[39m\u001b[38;5;124m'\u001b[39m)\n\u001b[0;32m---> 10\u001b[0m grid_result_rfr\u001b[38;5;241m=\u001b[39m\u001b[43mclf\u001b[49m\u001b[38;5;241;43m.\u001b[39;49m\u001b[43mfit\u001b[49m\u001b[43m(\u001b[49m\u001b[43mX_train\u001b[49m\u001b[43m,\u001b[49m\u001b[43m \u001b[49m\u001b[43mY_train_num\u001b[49m\u001b[38;5;241;43m.\u001b[39;49m\u001b[43mvalues\u001b[49m\u001b[38;5;241;43m.\u001b[39;49m\u001b[43mravel\u001b[49m\u001b[43m(\u001b[49m\u001b[43m)\u001b[49m\u001b[43m)\u001b[49m\n\u001b[1;32m     11\u001b[0m best_params_rfr \u001b[38;5;241m=\u001b[39m grid_result_rfr\u001b[38;5;241m.\u001b[39mbest_params_\n\u001b[1;32m     12\u001b[0m best_score \u001b[38;5;241m=\u001b[39m grid_result_rfr\u001b[38;5;241m.\u001b[39mbest_score_\n",
      "File \u001b[0;32m~/opt/anaconda3/lib/python3.8/site-packages/sklearn/model_selection/_search.py:891\u001b[0m, in \u001b[0;36mBaseSearchCV.fit\u001b[0;34m(self, X, y, groups, **fit_params)\u001b[0m\n\u001b[1;32m    885\u001b[0m     results \u001b[38;5;241m=\u001b[39m \u001b[38;5;28mself\u001b[39m\u001b[38;5;241m.\u001b[39m_format_results(\n\u001b[1;32m    886\u001b[0m         all_candidate_params, n_splits, all_out, all_more_results\n\u001b[1;32m    887\u001b[0m     )\n\u001b[1;32m    889\u001b[0m     \u001b[38;5;28;01mreturn\u001b[39;00m results\n\u001b[0;32m--> 891\u001b[0m \u001b[38;5;28;43mself\u001b[39;49m\u001b[38;5;241;43m.\u001b[39;49m\u001b[43m_run_search\u001b[49m\u001b[43m(\u001b[49m\u001b[43mevaluate_candidates\u001b[49m\u001b[43m)\u001b[49m\n\u001b[1;32m    893\u001b[0m \u001b[38;5;66;03m# multimetric is determined here because in the case of a callable\u001b[39;00m\n\u001b[1;32m    894\u001b[0m \u001b[38;5;66;03m# self.scoring the return type is only known after calling\u001b[39;00m\n\u001b[1;32m    895\u001b[0m first_test_score \u001b[38;5;241m=\u001b[39m all_out[\u001b[38;5;241m0\u001b[39m][\u001b[38;5;124m\"\u001b[39m\u001b[38;5;124mtest_scores\u001b[39m\u001b[38;5;124m\"\u001b[39m]\n",
      "File \u001b[0;32m~/opt/anaconda3/lib/python3.8/site-packages/sklearn/model_selection/_search.py:1392\u001b[0m, in \u001b[0;36mGridSearchCV._run_search\u001b[0;34m(self, evaluate_candidates)\u001b[0m\n\u001b[1;32m   1390\u001b[0m \u001b[38;5;28;01mdef\u001b[39;00m \u001b[38;5;21m_run_search\u001b[39m(\u001b[38;5;28mself\u001b[39m, evaluate_candidates):\n\u001b[1;32m   1391\u001b[0m     \u001b[38;5;124;03m\"\"\"Search all candidates in param_grid\"\"\"\u001b[39;00m\n\u001b[0;32m-> 1392\u001b[0m     \u001b[43mevaluate_candidates\u001b[49m\u001b[43m(\u001b[49m\u001b[43mParameterGrid\u001b[49m\u001b[43m(\u001b[49m\u001b[38;5;28;43mself\u001b[39;49m\u001b[38;5;241;43m.\u001b[39;49m\u001b[43mparam_grid\u001b[49m\u001b[43m)\u001b[49m\u001b[43m)\u001b[49m\n",
      "File \u001b[0;32m~/opt/anaconda3/lib/python3.8/site-packages/sklearn/model_selection/_search.py:838\u001b[0m, in \u001b[0;36mBaseSearchCV.fit.<locals>.evaluate_candidates\u001b[0;34m(candidate_params, cv, more_results)\u001b[0m\n\u001b[1;32m    830\u001b[0m \u001b[38;5;28;01mif\u001b[39;00m \u001b[38;5;28mself\u001b[39m\u001b[38;5;241m.\u001b[39mverbose \u001b[38;5;241m>\u001b[39m \u001b[38;5;241m0\u001b[39m:\n\u001b[1;32m    831\u001b[0m     \u001b[38;5;28mprint\u001b[39m(\n\u001b[1;32m    832\u001b[0m         \u001b[38;5;124m\"\u001b[39m\u001b[38;5;124mFitting \u001b[39m\u001b[38;5;132;01m{0}\u001b[39;00m\u001b[38;5;124m folds for each of \u001b[39m\u001b[38;5;132;01m{1}\u001b[39;00m\u001b[38;5;124m candidates,\u001b[39m\u001b[38;5;124m\"\u001b[39m\n\u001b[1;32m    833\u001b[0m         \u001b[38;5;124m\"\u001b[39m\u001b[38;5;124m totalling \u001b[39m\u001b[38;5;132;01m{2}\u001b[39;00m\u001b[38;5;124m fits\u001b[39m\u001b[38;5;124m\"\u001b[39m\u001b[38;5;241m.\u001b[39mformat(\n\u001b[1;32m    834\u001b[0m             n_splits, n_candidates, n_candidates \u001b[38;5;241m*\u001b[39m n_splits\n\u001b[1;32m    835\u001b[0m         )\n\u001b[1;32m    836\u001b[0m     )\n\u001b[0;32m--> 838\u001b[0m out \u001b[38;5;241m=\u001b[39m \u001b[43mparallel\u001b[49m\u001b[43m(\u001b[49m\n\u001b[1;32m    839\u001b[0m \u001b[43m    \u001b[49m\u001b[43mdelayed\u001b[49m\u001b[43m(\u001b[49m\u001b[43m_fit_and_score\u001b[49m\u001b[43m)\u001b[49m\u001b[43m(\u001b[49m\n\u001b[1;32m    840\u001b[0m \u001b[43m        \u001b[49m\u001b[43mclone\u001b[49m\u001b[43m(\u001b[49m\u001b[43mbase_estimator\u001b[49m\u001b[43m)\u001b[49m\u001b[43m,\u001b[49m\n\u001b[1;32m    841\u001b[0m \u001b[43m        \u001b[49m\u001b[43mX\u001b[49m\u001b[43m,\u001b[49m\n\u001b[1;32m    842\u001b[0m \u001b[43m        \u001b[49m\u001b[43my\u001b[49m\u001b[43m,\u001b[49m\n\u001b[1;32m    843\u001b[0m \u001b[43m        \u001b[49m\u001b[43mtrain\u001b[49m\u001b[38;5;241;43m=\u001b[39;49m\u001b[43mtrain\u001b[49m\u001b[43m,\u001b[49m\n\u001b[1;32m    844\u001b[0m \u001b[43m        \u001b[49m\u001b[43mtest\u001b[49m\u001b[38;5;241;43m=\u001b[39;49m\u001b[43mtest\u001b[49m\u001b[43m,\u001b[49m\n\u001b[1;32m    845\u001b[0m \u001b[43m        \u001b[49m\u001b[43mparameters\u001b[49m\u001b[38;5;241;43m=\u001b[39;49m\u001b[43mparameters\u001b[49m\u001b[43m,\u001b[49m\n\u001b[1;32m    846\u001b[0m \u001b[43m        \u001b[49m\u001b[43msplit_progress\u001b[49m\u001b[38;5;241;43m=\u001b[39;49m\u001b[43m(\u001b[49m\u001b[43msplit_idx\u001b[49m\u001b[43m,\u001b[49m\u001b[43m \u001b[49m\u001b[43mn_splits\u001b[49m\u001b[43m)\u001b[49m\u001b[43m,\u001b[49m\n\u001b[1;32m    847\u001b[0m \u001b[43m        \u001b[49m\u001b[43mcandidate_progress\u001b[49m\u001b[38;5;241;43m=\u001b[39;49m\u001b[43m(\u001b[49m\u001b[43mcand_idx\u001b[49m\u001b[43m,\u001b[49m\u001b[43m \u001b[49m\u001b[43mn_candidates\u001b[49m\u001b[43m)\u001b[49m\u001b[43m,\u001b[49m\n\u001b[1;32m    848\u001b[0m \u001b[43m        \u001b[49m\u001b[38;5;241;43m*\u001b[39;49m\u001b[38;5;241;43m*\u001b[39;49m\u001b[43mfit_and_score_kwargs\u001b[49m\u001b[43m,\u001b[49m\n\u001b[1;32m    849\u001b[0m \u001b[43m    \u001b[49m\u001b[43m)\u001b[49m\n\u001b[1;32m    850\u001b[0m \u001b[43m    \u001b[49m\u001b[38;5;28;43;01mfor\u001b[39;49;00m\u001b[43m \u001b[49m\u001b[43m(\u001b[49m\u001b[43mcand_idx\u001b[49m\u001b[43m,\u001b[49m\u001b[43m \u001b[49m\u001b[43mparameters\u001b[49m\u001b[43m)\u001b[49m\u001b[43m,\u001b[49m\u001b[43m \u001b[49m\u001b[43m(\u001b[49m\u001b[43msplit_idx\u001b[49m\u001b[43m,\u001b[49m\u001b[43m \u001b[49m\u001b[43m(\u001b[49m\u001b[43mtrain\u001b[49m\u001b[43m,\u001b[49m\u001b[43m \u001b[49m\u001b[43mtest\u001b[49m\u001b[43m)\u001b[49m\u001b[43m)\u001b[49m\u001b[43m \u001b[49m\u001b[38;5;129;43;01min\u001b[39;49;00m\u001b[43m \u001b[49m\u001b[43mproduct\u001b[49m\u001b[43m(\u001b[49m\n\u001b[1;32m    851\u001b[0m \u001b[43m        \u001b[49m\u001b[38;5;28;43menumerate\u001b[39;49m\u001b[43m(\u001b[49m\u001b[43mcandidate_params\u001b[49m\u001b[43m)\u001b[49m\u001b[43m,\u001b[49m\u001b[43m \u001b[49m\u001b[38;5;28;43menumerate\u001b[39;49m\u001b[43m(\u001b[49m\u001b[43mcv\u001b[49m\u001b[38;5;241;43m.\u001b[39;49m\u001b[43msplit\u001b[49m\u001b[43m(\u001b[49m\u001b[43mX\u001b[49m\u001b[43m,\u001b[49m\u001b[43m \u001b[49m\u001b[43my\u001b[49m\u001b[43m,\u001b[49m\u001b[43m \u001b[49m\u001b[43mgroups\u001b[49m\u001b[43m)\u001b[49m\u001b[43m)\u001b[49m\n\u001b[1;32m    852\u001b[0m \u001b[43m    \u001b[49m\u001b[43m)\u001b[49m\n\u001b[1;32m    853\u001b[0m \u001b[43m\u001b[49m\u001b[43m)\u001b[49m\n\u001b[1;32m    855\u001b[0m \u001b[38;5;28;01mif\u001b[39;00m \u001b[38;5;28mlen\u001b[39m(out) \u001b[38;5;241m<\u001b[39m \u001b[38;5;241m1\u001b[39m:\n\u001b[1;32m    856\u001b[0m     \u001b[38;5;28;01mraise\u001b[39;00m \u001b[38;5;167;01mValueError\u001b[39;00m(\n\u001b[1;32m    857\u001b[0m         \u001b[38;5;124m\"\u001b[39m\u001b[38;5;124mNo fits were performed. \u001b[39m\u001b[38;5;124m\"\u001b[39m\n\u001b[1;32m    858\u001b[0m         \u001b[38;5;124m\"\u001b[39m\u001b[38;5;124mWas the CV iterator empty? \u001b[39m\u001b[38;5;124m\"\u001b[39m\n\u001b[1;32m    859\u001b[0m         \u001b[38;5;124m\"\u001b[39m\u001b[38;5;124mWere there no candidates?\u001b[39m\u001b[38;5;124m\"\u001b[39m\n\u001b[1;32m    860\u001b[0m     )\n",
      "File \u001b[0;32m~/opt/anaconda3/lib/python3.8/site-packages/joblib/parallel.py:1046\u001b[0m, in \u001b[0;36mParallel.__call__\u001b[0;34m(self, iterable)\u001b[0m\n\u001b[1;32m   1043\u001b[0m \u001b[38;5;28;01mif\u001b[39;00m \u001b[38;5;28mself\u001b[39m\u001b[38;5;241m.\u001b[39mdispatch_one_batch(iterator):\n\u001b[1;32m   1044\u001b[0m     \u001b[38;5;28mself\u001b[39m\u001b[38;5;241m.\u001b[39m_iterating \u001b[38;5;241m=\u001b[39m \u001b[38;5;28mself\u001b[39m\u001b[38;5;241m.\u001b[39m_original_iterator \u001b[38;5;129;01mis\u001b[39;00m \u001b[38;5;129;01mnot\u001b[39;00m \u001b[38;5;28;01mNone\u001b[39;00m\n\u001b[0;32m-> 1046\u001b[0m \u001b[38;5;28;01mwhile\u001b[39;00m \u001b[38;5;28;43mself\u001b[39;49m\u001b[38;5;241;43m.\u001b[39;49m\u001b[43mdispatch_one_batch\u001b[49m\u001b[43m(\u001b[49m\u001b[43miterator\u001b[49m\u001b[43m)\u001b[49m:\n\u001b[1;32m   1047\u001b[0m     \u001b[38;5;28;01mpass\u001b[39;00m\n\u001b[1;32m   1049\u001b[0m \u001b[38;5;28;01mif\u001b[39;00m pre_dispatch \u001b[38;5;241m==\u001b[39m \u001b[38;5;124m\"\u001b[39m\u001b[38;5;124mall\u001b[39m\u001b[38;5;124m\"\u001b[39m \u001b[38;5;129;01mor\u001b[39;00m n_jobs \u001b[38;5;241m==\u001b[39m \u001b[38;5;241m1\u001b[39m:\n\u001b[1;32m   1050\u001b[0m     \u001b[38;5;66;03m# The iterable was consumed all at once by the above for loop.\u001b[39;00m\n\u001b[1;32m   1051\u001b[0m     \u001b[38;5;66;03m# No need to wait for async callbacks to trigger to\u001b[39;00m\n\u001b[1;32m   1052\u001b[0m     \u001b[38;5;66;03m# consumption.\u001b[39;00m\n",
      "File \u001b[0;32m~/opt/anaconda3/lib/python3.8/site-packages/joblib/parallel.py:861\u001b[0m, in \u001b[0;36mParallel.dispatch_one_batch\u001b[0;34m(self, iterator)\u001b[0m\n\u001b[1;32m    859\u001b[0m     \u001b[38;5;28;01mreturn\u001b[39;00m \u001b[38;5;28;01mFalse\u001b[39;00m\n\u001b[1;32m    860\u001b[0m \u001b[38;5;28;01melse\u001b[39;00m:\n\u001b[0;32m--> 861\u001b[0m     \u001b[38;5;28;43mself\u001b[39;49m\u001b[38;5;241;43m.\u001b[39;49m\u001b[43m_dispatch\u001b[49m\u001b[43m(\u001b[49m\u001b[43mtasks\u001b[49m\u001b[43m)\u001b[49m\n\u001b[1;32m    862\u001b[0m     \u001b[38;5;28;01mreturn\u001b[39;00m \u001b[38;5;28;01mTrue\u001b[39;00m\n",
      "File \u001b[0;32m~/opt/anaconda3/lib/python3.8/site-packages/joblib/parallel.py:779\u001b[0m, in \u001b[0;36mParallel._dispatch\u001b[0;34m(self, batch)\u001b[0m\n\u001b[1;32m    777\u001b[0m \u001b[38;5;28;01mwith\u001b[39;00m \u001b[38;5;28mself\u001b[39m\u001b[38;5;241m.\u001b[39m_lock:\n\u001b[1;32m    778\u001b[0m     job_idx \u001b[38;5;241m=\u001b[39m \u001b[38;5;28mlen\u001b[39m(\u001b[38;5;28mself\u001b[39m\u001b[38;5;241m.\u001b[39m_jobs)\n\u001b[0;32m--> 779\u001b[0m     job \u001b[38;5;241m=\u001b[39m \u001b[38;5;28;43mself\u001b[39;49m\u001b[38;5;241;43m.\u001b[39;49m\u001b[43m_backend\u001b[49m\u001b[38;5;241;43m.\u001b[39;49m\u001b[43mapply_async\u001b[49m\u001b[43m(\u001b[49m\u001b[43mbatch\u001b[49m\u001b[43m,\u001b[49m\u001b[43m \u001b[49m\u001b[43mcallback\u001b[49m\u001b[38;5;241;43m=\u001b[39;49m\u001b[43mcb\u001b[49m\u001b[43m)\u001b[49m\n\u001b[1;32m    780\u001b[0m     \u001b[38;5;66;03m# A job can complete so quickly than its callback is\u001b[39;00m\n\u001b[1;32m    781\u001b[0m     \u001b[38;5;66;03m# called before we get here, causing self._jobs to\u001b[39;00m\n\u001b[1;32m    782\u001b[0m     \u001b[38;5;66;03m# grow. To ensure correct results ordering, .insert is\u001b[39;00m\n\u001b[1;32m    783\u001b[0m     \u001b[38;5;66;03m# used (rather than .append) in the following line\u001b[39;00m\n\u001b[1;32m    784\u001b[0m     \u001b[38;5;28mself\u001b[39m\u001b[38;5;241m.\u001b[39m_jobs\u001b[38;5;241m.\u001b[39minsert(job_idx, job)\n",
      "File \u001b[0;32m~/opt/anaconda3/lib/python3.8/site-packages/joblib/_parallel_backends.py:208\u001b[0m, in \u001b[0;36mSequentialBackend.apply_async\u001b[0;34m(self, func, callback)\u001b[0m\n\u001b[1;32m    206\u001b[0m \u001b[38;5;28;01mdef\u001b[39;00m \u001b[38;5;21mapply_async\u001b[39m(\u001b[38;5;28mself\u001b[39m, func, callback\u001b[38;5;241m=\u001b[39m\u001b[38;5;28;01mNone\u001b[39;00m):\n\u001b[1;32m    207\u001b[0m     \u001b[38;5;124;03m\"\"\"Schedule a func to be run\"\"\"\u001b[39;00m\n\u001b[0;32m--> 208\u001b[0m     result \u001b[38;5;241m=\u001b[39m \u001b[43mImmediateResult\u001b[49m\u001b[43m(\u001b[49m\u001b[43mfunc\u001b[49m\u001b[43m)\u001b[49m\n\u001b[1;32m    209\u001b[0m     \u001b[38;5;28;01mif\u001b[39;00m callback:\n\u001b[1;32m    210\u001b[0m         callback(result)\n",
      "File \u001b[0;32m~/opt/anaconda3/lib/python3.8/site-packages/joblib/_parallel_backends.py:572\u001b[0m, in \u001b[0;36mImmediateResult.__init__\u001b[0;34m(self, batch)\u001b[0m\n\u001b[1;32m    569\u001b[0m \u001b[38;5;28;01mdef\u001b[39;00m \u001b[38;5;21m__init__\u001b[39m(\u001b[38;5;28mself\u001b[39m, batch):\n\u001b[1;32m    570\u001b[0m     \u001b[38;5;66;03m# Don't delay the application, to avoid keeping the input\u001b[39;00m\n\u001b[1;32m    571\u001b[0m     \u001b[38;5;66;03m# arguments in memory\u001b[39;00m\n\u001b[0;32m--> 572\u001b[0m     \u001b[38;5;28mself\u001b[39m\u001b[38;5;241m.\u001b[39mresults \u001b[38;5;241m=\u001b[39m \u001b[43mbatch\u001b[49m\u001b[43m(\u001b[49m\u001b[43m)\u001b[49m\n",
      "File \u001b[0;32m~/opt/anaconda3/lib/python3.8/site-packages/joblib/parallel.py:262\u001b[0m, in \u001b[0;36mBatchedCalls.__call__\u001b[0;34m(self)\u001b[0m\n\u001b[1;32m    258\u001b[0m \u001b[38;5;28;01mdef\u001b[39;00m \u001b[38;5;21m__call__\u001b[39m(\u001b[38;5;28mself\u001b[39m):\n\u001b[1;32m    259\u001b[0m     \u001b[38;5;66;03m# Set the default nested backend to self._backend but do not set the\u001b[39;00m\n\u001b[1;32m    260\u001b[0m     \u001b[38;5;66;03m# change the default number of processes to -1\u001b[39;00m\n\u001b[1;32m    261\u001b[0m     \u001b[38;5;28;01mwith\u001b[39;00m parallel_backend(\u001b[38;5;28mself\u001b[39m\u001b[38;5;241m.\u001b[39m_backend, n_jobs\u001b[38;5;241m=\u001b[39m\u001b[38;5;28mself\u001b[39m\u001b[38;5;241m.\u001b[39m_n_jobs):\n\u001b[0;32m--> 262\u001b[0m         \u001b[38;5;28;01mreturn\u001b[39;00m [func(\u001b[38;5;241m*\u001b[39margs, \u001b[38;5;241m*\u001b[39m\u001b[38;5;241m*\u001b[39mkwargs)\n\u001b[1;32m    263\u001b[0m                 \u001b[38;5;28;01mfor\u001b[39;00m func, args, kwargs \u001b[38;5;129;01min\u001b[39;00m \u001b[38;5;28mself\u001b[39m\u001b[38;5;241m.\u001b[39mitems]\n",
      "File \u001b[0;32m~/opt/anaconda3/lib/python3.8/site-packages/joblib/parallel.py:262\u001b[0m, in \u001b[0;36m<listcomp>\u001b[0;34m(.0)\u001b[0m\n\u001b[1;32m    258\u001b[0m \u001b[38;5;28;01mdef\u001b[39;00m \u001b[38;5;21m__call__\u001b[39m(\u001b[38;5;28mself\u001b[39m):\n\u001b[1;32m    259\u001b[0m     \u001b[38;5;66;03m# Set the default nested backend to self._backend but do not set the\u001b[39;00m\n\u001b[1;32m    260\u001b[0m     \u001b[38;5;66;03m# change the default number of processes to -1\u001b[39;00m\n\u001b[1;32m    261\u001b[0m     \u001b[38;5;28;01mwith\u001b[39;00m parallel_backend(\u001b[38;5;28mself\u001b[39m\u001b[38;5;241m.\u001b[39m_backend, n_jobs\u001b[38;5;241m=\u001b[39m\u001b[38;5;28mself\u001b[39m\u001b[38;5;241m.\u001b[39m_n_jobs):\n\u001b[0;32m--> 262\u001b[0m         \u001b[38;5;28;01mreturn\u001b[39;00m [\u001b[43mfunc\u001b[49m\u001b[43m(\u001b[49m\u001b[38;5;241;43m*\u001b[39;49m\u001b[43margs\u001b[49m\u001b[43m,\u001b[49m\u001b[43m \u001b[49m\u001b[38;5;241;43m*\u001b[39;49m\u001b[38;5;241;43m*\u001b[39;49m\u001b[43mkwargs\u001b[49m\u001b[43m)\u001b[49m\n\u001b[1;32m    263\u001b[0m                 \u001b[38;5;28;01mfor\u001b[39;00m func, args, kwargs \u001b[38;5;129;01min\u001b[39;00m \u001b[38;5;28mself\u001b[39m\u001b[38;5;241m.\u001b[39mitems]\n",
      "File \u001b[0;32m~/opt/anaconda3/lib/python3.8/site-packages/sklearn/utils/fixes.py:216\u001b[0m, in \u001b[0;36m_FuncWrapper.__call__\u001b[0;34m(self, *args, **kwargs)\u001b[0m\n\u001b[1;32m    214\u001b[0m \u001b[38;5;28;01mdef\u001b[39;00m \u001b[38;5;21m__call__\u001b[39m(\u001b[38;5;28mself\u001b[39m, \u001b[38;5;241m*\u001b[39margs, \u001b[38;5;241m*\u001b[39m\u001b[38;5;241m*\u001b[39mkwargs):\n\u001b[1;32m    215\u001b[0m     \u001b[38;5;28;01mwith\u001b[39;00m config_context(\u001b[38;5;241m*\u001b[39m\u001b[38;5;241m*\u001b[39m\u001b[38;5;28mself\u001b[39m\u001b[38;5;241m.\u001b[39mconfig):\n\u001b[0;32m--> 216\u001b[0m         \u001b[38;5;28;01mreturn\u001b[39;00m \u001b[38;5;28;43mself\u001b[39;49m\u001b[38;5;241;43m.\u001b[39;49m\u001b[43mfunction\u001b[49m\u001b[43m(\u001b[49m\u001b[38;5;241;43m*\u001b[39;49m\u001b[43margs\u001b[49m\u001b[43m,\u001b[49m\u001b[43m \u001b[49m\u001b[38;5;241;43m*\u001b[39;49m\u001b[38;5;241;43m*\u001b[39;49m\u001b[43mkwargs\u001b[49m\u001b[43m)\u001b[49m\n",
      "File \u001b[0;32m~/opt/anaconda3/lib/python3.8/site-packages/sklearn/model_selection/_validation.py:702\u001b[0m, in \u001b[0;36m_fit_and_score\u001b[0;34m(estimator, X, y, scorer, train, test, verbose, parameters, fit_params, return_train_score, return_parameters, return_n_test_samples, return_times, return_estimator, split_progress, candidate_progress, error_score)\u001b[0m\n\u001b[1;32m    699\u001b[0m result[\u001b[38;5;124m\"\u001b[39m\u001b[38;5;124mfit_error\u001b[39m\u001b[38;5;124m\"\u001b[39m] \u001b[38;5;241m=\u001b[39m \u001b[38;5;28;01mNone\u001b[39;00m\n\u001b[1;32m    701\u001b[0m fit_time \u001b[38;5;241m=\u001b[39m time\u001b[38;5;241m.\u001b[39mtime() \u001b[38;5;241m-\u001b[39m start_time\n\u001b[0;32m--> 702\u001b[0m test_scores \u001b[38;5;241m=\u001b[39m \u001b[43m_score\u001b[49m\u001b[43m(\u001b[49m\u001b[43mestimator\u001b[49m\u001b[43m,\u001b[49m\u001b[43m \u001b[49m\u001b[43mX_test\u001b[49m\u001b[43m,\u001b[49m\u001b[43m \u001b[49m\u001b[43my_test\u001b[49m\u001b[43m,\u001b[49m\u001b[43m \u001b[49m\u001b[43mscorer\u001b[49m\u001b[43m,\u001b[49m\u001b[43m \u001b[49m\u001b[43merror_score\u001b[49m\u001b[43m)\u001b[49m\n\u001b[1;32m    703\u001b[0m score_time \u001b[38;5;241m=\u001b[39m time\u001b[38;5;241m.\u001b[39mtime() \u001b[38;5;241m-\u001b[39m start_time \u001b[38;5;241m-\u001b[39m fit_time\n\u001b[1;32m    704\u001b[0m \u001b[38;5;28;01mif\u001b[39;00m return_train_score:\n",
      "File \u001b[0;32m~/opt/anaconda3/lib/python3.8/site-packages/sklearn/model_selection/_validation.py:761\u001b[0m, in \u001b[0;36m_score\u001b[0;34m(estimator, X_test, y_test, scorer, error_score)\u001b[0m\n\u001b[1;32m    759\u001b[0m         scores \u001b[38;5;241m=\u001b[39m scorer(estimator, X_test)\n\u001b[1;32m    760\u001b[0m     \u001b[38;5;28;01melse\u001b[39;00m:\n\u001b[0;32m--> 761\u001b[0m         scores \u001b[38;5;241m=\u001b[39m \u001b[43mscorer\u001b[49m\u001b[43m(\u001b[49m\u001b[43mestimator\u001b[49m\u001b[43m,\u001b[49m\u001b[43m \u001b[49m\u001b[43mX_test\u001b[49m\u001b[43m,\u001b[49m\u001b[43m \u001b[49m\u001b[43my_test\u001b[49m\u001b[43m)\u001b[49m\n\u001b[1;32m    762\u001b[0m \u001b[38;5;28;01mexcept\u001b[39;00m \u001b[38;5;167;01mException\u001b[39;00m:\n\u001b[1;32m    763\u001b[0m     \u001b[38;5;28;01mif\u001b[39;00m error_score \u001b[38;5;241m==\u001b[39m \u001b[38;5;124m\"\u001b[39m\u001b[38;5;124mraise\u001b[39m\u001b[38;5;124m\"\u001b[39m:\n",
      "File \u001b[0;32m~/opt/anaconda3/lib/python3.8/site-packages/sklearn/metrics/_scorer.py:216\u001b[0m, in \u001b[0;36m_BaseScorer.__call__\u001b[0;34m(self, estimator, X, y_true, sample_weight)\u001b[0m\n\u001b[1;32m    193\u001b[0m \u001b[38;5;28;01mdef\u001b[39;00m \u001b[38;5;21m__call__\u001b[39m(\u001b[38;5;28mself\u001b[39m, estimator, X, y_true, sample_weight\u001b[38;5;241m=\u001b[39m\u001b[38;5;28;01mNone\u001b[39;00m):\n\u001b[1;32m    194\u001b[0m     \u001b[38;5;124;03m\"\"\"Evaluate predicted target values for X relative to y_true.\u001b[39;00m\n\u001b[1;32m    195\u001b[0m \n\u001b[1;32m    196\u001b[0m \u001b[38;5;124;03m    Parameters\u001b[39;00m\n\u001b[0;32m   (...)\u001b[0m\n\u001b[1;32m    214\u001b[0m \u001b[38;5;124;03m        Score function applied to prediction of estimator on X.\u001b[39;00m\n\u001b[1;32m    215\u001b[0m \u001b[38;5;124;03m    \"\"\"\u001b[39;00m\n\u001b[0;32m--> 216\u001b[0m     \u001b[38;5;28;01mreturn\u001b[39;00m \u001b[38;5;28;43mself\u001b[39;49m\u001b[38;5;241;43m.\u001b[39;49m\u001b[43m_score\u001b[49m\u001b[43m(\u001b[49m\n\u001b[1;32m    217\u001b[0m \u001b[43m        \u001b[49m\u001b[43mpartial\u001b[49m\u001b[43m(\u001b[49m\u001b[43m_cached_call\u001b[49m\u001b[43m,\u001b[49m\u001b[43m \u001b[49m\u001b[38;5;28;43;01mNone\u001b[39;49;00m\u001b[43m)\u001b[49m\u001b[43m,\u001b[49m\n\u001b[1;32m    218\u001b[0m \u001b[43m        \u001b[49m\u001b[43mestimator\u001b[49m\u001b[43m,\u001b[49m\n\u001b[1;32m    219\u001b[0m \u001b[43m        \u001b[49m\u001b[43mX\u001b[49m\u001b[43m,\u001b[49m\n\u001b[1;32m    220\u001b[0m \u001b[43m        \u001b[49m\u001b[43my_true\u001b[49m\u001b[43m,\u001b[49m\n\u001b[1;32m    221\u001b[0m \u001b[43m        \u001b[49m\u001b[43msample_weight\u001b[49m\u001b[38;5;241;43m=\u001b[39;49m\u001b[43msample_weight\u001b[49m\u001b[43m,\u001b[49m\n\u001b[1;32m    222\u001b[0m \u001b[43m    \u001b[49m\u001b[43m)\u001b[49m\n",
      "File \u001b[0;32m~/opt/anaconda3/lib/python3.8/site-packages/sklearn/metrics/_scorer.py:258\u001b[0m, in \u001b[0;36m_PredictScorer._score\u001b[0;34m(self, method_caller, estimator, X, y_true, sample_weight)\u001b[0m\n\u001b[1;32m    230\u001b[0m \u001b[38;5;28;01mdef\u001b[39;00m \u001b[38;5;21m_score\u001b[39m(\u001b[38;5;28mself\u001b[39m, method_caller, estimator, X, y_true, sample_weight\u001b[38;5;241m=\u001b[39m\u001b[38;5;28;01mNone\u001b[39;00m):\n\u001b[1;32m    231\u001b[0m     \u001b[38;5;124;03m\"\"\"Evaluate predicted target values for X relative to y_true.\u001b[39;00m\n\u001b[1;32m    232\u001b[0m \n\u001b[1;32m    233\u001b[0m \u001b[38;5;124;03m    Parameters\u001b[39;00m\n\u001b[0;32m   (...)\u001b[0m\n\u001b[1;32m    255\u001b[0m \u001b[38;5;124;03m        Score function applied to prediction of estimator on X.\u001b[39;00m\n\u001b[1;32m    256\u001b[0m \u001b[38;5;124;03m    \"\"\"\u001b[39;00m\n\u001b[0;32m--> 258\u001b[0m     y_pred \u001b[38;5;241m=\u001b[39m \u001b[43mmethod_caller\u001b[49m\u001b[43m(\u001b[49m\u001b[43mestimator\u001b[49m\u001b[43m,\u001b[49m\u001b[43m \u001b[49m\u001b[38;5;124;43m\"\u001b[39;49m\u001b[38;5;124;43mpredict\u001b[39;49m\u001b[38;5;124;43m\"\u001b[39;49m\u001b[43m,\u001b[49m\u001b[43m \u001b[49m\u001b[43mX\u001b[49m\u001b[43m)\u001b[49m\n\u001b[1;32m    259\u001b[0m     \u001b[38;5;28;01mif\u001b[39;00m sample_weight \u001b[38;5;129;01mis\u001b[39;00m \u001b[38;5;129;01mnot\u001b[39;00m \u001b[38;5;28;01mNone\u001b[39;00m:\n\u001b[1;32m    260\u001b[0m         \u001b[38;5;28;01mreturn\u001b[39;00m \u001b[38;5;28mself\u001b[39m\u001b[38;5;241m.\u001b[39m_sign \u001b[38;5;241m*\u001b[39m \u001b[38;5;28mself\u001b[39m\u001b[38;5;241m.\u001b[39m_score_func(\n\u001b[1;32m    261\u001b[0m             y_true, y_pred, sample_weight\u001b[38;5;241m=\u001b[39msample_weight, \u001b[38;5;241m*\u001b[39m\u001b[38;5;241m*\u001b[39m\u001b[38;5;28mself\u001b[39m\u001b[38;5;241m.\u001b[39m_kwargs\n\u001b[1;32m    262\u001b[0m         )\n",
      "File \u001b[0;32m~/opt/anaconda3/lib/python3.8/site-packages/sklearn/metrics/_scorer.py:68\u001b[0m, in \u001b[0;36m_cached_call\u001b[0;34m(cache, estimator, method, *args, **kwargs)\u001b[0m\n\u001b[1;32m     66\u001b[0m \u001b[38;5;124;03m\"\"\"Call estimator with method and args and kwargs.\"\"\"\u001b[39;00m\n\u001b[1;32m     67\u001b[0m \u001b[38;5;28;01mif\u001b[39;00m cache \u001b[38;5;129;01mis\u001b[39;00m \u001b[38;5;28;01mNone\u001b[39;00m:\n\u001b[0;32m---> 68\u001b[0m     \u001b[38;5;28;01mreturn\u001b[39;00m \u001b[38;5;28;43mgetattr\u001b[39;49m\u001b[43m(\u001b[49m\u001b[43mestimator\u001b[49m\u001b[43m,\u001b[49m\u001b[43m \u001b[49m\u001b[43mmethod\u001b[49m\u001b[43m)\u001b[49m\u001b[43m(\u001b[49m\u001b[38;5;241;43m*\u001b[39;49m\u001b[43margs\u001b[49m\u001b[43m,\u001b[49m\u001b[43m \u001b[49m\u001b[38;5;241;43m*\u001b[39;49m\u001b[38;5;241;43m*\u001b[39;49m\u001b[43mkwargs\u001b[49m\u001b[43m)\u001b[49m\n\u001b[1;32m     70\u001b[0m \u001b[38;5;28;01mtry\u001b[39;00m:\n\u001b[1;32m     71\u001b[0m     \u001b[38;5;28;01mreturn\u001b[39;00m cache[method]\n",
      "File \u001b[0;32m~/opt/anaconda3/lib/python3.8/site-packages/sklearn/ensemble/_forest.py:984\u001b[0m, in \u001b[0;36mForestRegressor.predict\u001b[0;34m(self, X)\u001b[0m\n\u001b[1;32m    982\u001b[0m \u001b[38;5;66;03m# Parallel loop\u001b[39;00m\n\u001b[1;32m    983\u001b[0m lock \u001b[38;5;241m=\u001b[39m threading\u001b[38;5;241m.\u001b[39mLock()\n\u001b[0;32m--> 984\u001b[0m \u001b[43mParallel\u001b[49m\u001b[43m(\u001b[49m\n\u001b[1;32m    985\u001b[0m \u001b[43m    \u001b[49m\u001b[43mn_jobs\u001b[49m\u001b[38;5;241;43m=\u001b[39;49m\u001b[43mn_jobs\u001b[49m\u001b[43m,\u001b[49m\n\u001b[1;32m    986\u001b[0m \u001b[43m    \u001b[49m\u001b[43mverbose\u001b[49m\u001b[38;5;241;43m=\u001b[39;49m\u001b[38;5;28;43mself\u001b[39;49m\u001b[38;5;241;43m.\u001b[39;49m\u001b[43mverbose\u001b[49m\u001b[43m,\u001b[49m\n\u001b[1;32m    987\u001b[0m \u001b[43m    \u001b[49m\u001b[38;5;241;43m*\u001b[39;49m\u001b[38;5;241;43m*\u001b[39;49m\u001b[43m_joblib_parallel_args\u001b[49m\u001b[43m(\u001b[49m\u001b[43mrequire\u001b[49m\u001b[38;5;241;43m=\u001b[39;49m\u001b[38;5;124;43m\"\u001b[39;49m\u001b[38;5;124;43msharedmem\u001b[39;49m\u001b[38;5;124;43m\"\u001b[39;49m\u001b[43m)\u001b[49m\u001b[43m,\u001b[49m\n\u001b[1;32m    988\u001b[0m \u001b[43m\u001b[49m\u001b[43m)\u001b[49m\u001b[43m(\u001b[49m\n\u001b[1;32m    989\u001b[0m \u001b[43m    \u001b[49m\u001b[43mdelayed\u001b[49m\u001b[43m(\u001b[49m\u001b[43m_accumulate_prediction\u001b[49m\u001b[43m)\u001b[49m\u001b[43m(\u001b[49m\u001b[43me\u001b[49m\u001b[38;5;241;43m.\u001b[39;49m\u001b[43mpredict\u001b[49m\u001b[43m,\u001b[49m\u001b[43m \u001b[49m\u001b[43mX\u001b[49m\u001b[43m,\u001b[49m\u001b[43m \u001b[49m\u001b[43m[\u001b[49m\u001b[43my_hat\u001b[49m\u001b[43m]\u001b[49m\u001b[43m,\u001b[49m\u001b[43m \u001b[49m\u001b[43mlock\u001b[49m\u001b[43m)\u001b[49m\n\u001b[1;32m    990\u001b[0m \u001b[43m    \u001b[49m\u001b[38;5;28;43;01mfor\u001b[39;49;00m\u001b[43m \u001b[49m\u001b[43me\u001b[49m\u001b[43m \u001b[49m\u001b[38;5;129;43;01min\u001b[39;49;00m\u001b[43m \u001b[49m\u001b[38;5;28;43mself\u001b[39;49m\u001b[38;5;241;43m.\u001b[39;49m\u001b[43mestimators_\u001b[49m\n\u001b[1;32m    991\u001b[0m \u001b[43m\u001b[49m\u001b[43m)\u001b[49m\n\u001b[1;32m    993\u001b[0m y_hat \u001b[38;5;241m/\u001b[39m\u001b[38;5;241m=\u001b[39m \u001b[38;5;28mlen\u001b[39m(\u001b[38;5;28mself\u001b[39m\u001b[38;5;241m.\u001b[39mestimators_)\n\u001b[1;32m    995\u001b[0m \u001b[38;5;28;01mreturn\u001b[39;00m y_hat\n",
      "File \u001b[0;32m~/opt/anaconda3/lib/python3.8/site-packages/joblib/parallel.py:1046\u001b[0m, in \u001b[0;36mParallel.__call__\u001b[0;34m(self, iterable)\u001b[0m\n\u001b[1;32m   1043\u001b[0m \u001b[38;5;28;01mif\u001b[39;00m \u001b[38;5;28mself\u001b[39m\u001b[38;5;241m.\u001b[39mdispatch_one_batch(iterator):\n\u001b[1;32m   1044\u001b[0m     \u001b[38;5;28mself\u001b[39m\u001b[38;5;241m.\u001b[39m_iterating \u001b[38;5;241m=\u001b[39m \u001b[38;5;28mself\u001b[39m\u001b[38;5;241m.\u001b[39m_original_iterator \u001b[38;5;129;01mis\u001b[39;00m \u001b[38;5;129;01mnot\u001b[39;00m \u001b[38;5;28;01mNone\u001b[39;00m\n\u001b[0;32m-> 1046\u001b[0m \u001b[38;5;28;01mwhile\u001b[39;00m \u001b[38;5;28;43mself\u001b[39;49m\u001b[38;5;241;43m.\u001b[39;49m\u001b[43mdispatch_one_batch\u001b[49m\u001b[43m(\u001b[49m\u001b[43miterator\u001b[49m\u001b[43m)\u001b[49m:\n\u001b[1;32m   1047\u001b[0m     \u001b[38;5;28;01mpass\u001b[39;00m\n\u001b[1;32m   1049\u001b[0m \u001b[38;5;28;01mif\u001b[39;00m pre_dispatch \u001b[38;5;241m==\u001b[39m \u001b[38;5;124m\"\u001b[39m\u001b[38;5;124mall\u001b[39m\u001b[38;5;124m\"\u001b[39m \u001b[38;5;129;01mor\u001b[39;00m n_jobs \u001b[38;5;241m==\u001b[39m \u001b[38;5;241m1\u001b[39m:\n\u001b[1;32m   1050\u001b[0m     \u001b[38;5;66;03m# The iterable was consumed all at once by the above for loop.\u001b[39;00m\n\u001b[1;32m   1051\u001b[0m     \u001b[38;5;66;03m# No need to wait for async callbacks to trigger to\u001b[39;00m\n\u001b[1;32m   1052\u001b[0m     \u001b[38;5;66;03m# consumption.\u001b[39;00m\n",
      "\u001b[0;31mKeyboardInterrupt\u001b[0m: "
     ]
    }
   ],
   "source": [
    "# r2, Value\n",
    "for i in varnum:   \n",
    "    print(f'-- variables to consider: {i} --')\n",
    "    var_to_consider=reg_rankedvariable[:i]\n",
    "    X_train=trainset[var_to_consider]\n",
    "    X_test=testset[var_to_consider]\n",
    "    rfr = RandomForestRegressor()\n",
    "    forest_params = [{'n_estimators':list(range(10, 100,10)),'max_depth': list(range(5, 30,5))}]\n",
    "    clf = GridSearchCV(rfr, forest_params, cv = 5, scoring='r2')\n",
    "    grid_result_rfr=clf.fit(X_train, Y_train_num.values.ravel())\n",
    "    best_params_rfr = grid_result_rfr.best_params_\n",
    "    best_score = grid_result_rfr.best_score_\n",
    "    \n",
    "    best_rfr = RandomForestRegressor(n_estimators=best_params_rfr['n_estimators'],\n",
    "                                     max_depth=best_params_rfr['max_depth'])\n",
    "    best_rfr.fit(X_train, Y_train_num.values.ravel())\n",
    "    test_pred = best_rfr.predict(X_test)\n",
    "    test_score = r2_score(y_true = Y_test_num, y_pred = test_pred)\n",
    "    print(f'the best set of parameters: {best_params_rfr}') \n",
    "    print(f'the best train score: {best_score}') \n",
    "    print(f'the best test score: {test_score}\\n')"
   ]
  },
  {
   "cell_type": "code",
   "execution_count": 10,
   "id": "91e4c86e",
   "metadata": {
    "ExecuteTime": {
     "end_time": "2022-04-11T18:24:40.469803Z",
     "start_time": "2022-04-11T18:22:14.090934Z"
    },
    "hidden": true
   },
   "outputs": [
    {
     "name": "stdout",
     "output_type": "stream",
     "text": [
      "-- variables to consider: 3 --\n",
      "{'max_depth': 20, 'n_estimators': 90}\n",
      "0.6459557985873776\n",
      "-- variables to consider: 5 --\n",
      "{'max_depth': 10, 'n_estimators': 50}\n",
      "0.6494317344162546\n",
      "-- variables to consider: 10 --\n",
      "{'max_depth': 5, 'n_estimators': 10}\n",
      "0.6633468698484178\n",
      "-- variables to consider: 15 --\n",
      "{'max_depth': 5, 'n_estimators': 60}\n",
      "0.6772050446973049\n",
      "-- variables to consider: 20 --\n",
      "{'max_depth': 20, 'n_estimators': 90}\n",
      "0.6737518931017383\n"
     ]
    }
   ],
   "source": [
    "# r2, BS_binary\n",
    "for i in varnum:   \n",
    "    print(f'-- variables to consider: {i} --')\n",
    "    var_to_consider=rankedvariable[:i]\n",
    "    X_train=trainset[var_to_consider]\n",
    "    X_test=testset[var_to_consider]\n",
    "    rfc = RandomForestClassifier()\n",
    "    forest_params = [{'n_estimators':list(range(10, 100,10)),'max_depth': list(range(5, 30,5))}]\n",
    "    clf = GridSearchCV(rfc, forest_params, cv = 5, scoring='r2')\n",
    "    clf.fit(X_train, Y_train_cat.values.ravel())\n",
    "    print(clf.best_params_)\n",
    "    print(clf.best_score_)"
   ]
  },
  {
   "cell_type": "code",
   "execution_count": 44,
   "id": "16a8d2dc",
   "metadata": {
    "ExecuteTime": {
     "end_time": "2022-04-07T23:21:22.030004Z",
     "start_time": "2022-04-07T23:21:18.194729Z"
    },
    "hidden": true
   },
   "outputs": [
    {
     "name": "stdout",
     "output_type": "stream",
     "text": [
      "Fitting 5 folds for each of 20 candidates, totalling 100 fits\n"
     ]
    },
    {
     "data": {
      "text/plain": [
       "GridSearchCV(cv=KFold(n_splits=5, random_state=100, shuffle=True),\n",
       "             estimator=RFE(estimator=LinearRegression()),\n",
       "             param_grid=[{'n_features_to_select': [1, 2, 3, 4, 5, 6, 7, 8, 9,\n",
       "                                                   10, 11, 12, 13, 14, 15, 16,\n",
       "                                                   17, 18, 19, 20]}],\n",
       "             return_train_score=True, scoring='r2', verbose=1)"
      ]
     },
     "execution_count": 44,
     "metadata": {},
     "output_type": "execute_result"
    }
   ],
   "source": [
    "kfolds_regression = KFold(n_splits = 5, shuffle = True, random_state = 100)\n",
    "\n",
    "# step-2: specify range of hyperparameters to tune\n",
    "hyper_params = [{'n_features_to_select': list(range(1, 21))}]\n",
    "\n",
    "\n",
    "# step-3: perform grid search\n",
    "# 3.1 specify model\n",
    "lm = LinearRegression()\n",
    "lm.fit(X_train, Y_train_cat)\n",
    "rfe = RFE(lm)             \n",
    "\n",
    "# 3.2 call GridSearchCV()\n",
    "model_cv = GridSearchCV(estimator = rfe, \n",
    "                        param_grid = hyper_params, \n",
    "                        scoring= 'r2', \n",
    "                        cv = kfolds_regression, \n",
    "                        verbose = 1,\n",
    "                        return_train_score=True)      \n",
    "\n",
    "# fit the model\n",
    "model_cv.fit(X_train, Y_train_cat)"
   ]
  },
  {
   "cell_type": "code",
   "execution_count": 50,
   "id": "0bc15247",
   "metadata": {
    "ExecuteTime": {
     "end_time": "2022-04-07T23:32:59.553590Z",
     "start_time": "2022-04-07T23:32:59.530527Z"
    },
    "hidden": true,
    "scrolled": true
   },
   "outputs": [
    {
     "data": {
      "text/html": [
       "<div>\n",
       "<style scoped>\n",
       "    .dataframe tbody tr th:only-of-type {\n",
       "        vertical-align: middle;\n",
       "    }\n",
       "\n",
       "    .dataframe tbody tr th {\n",
       "        vertical-align: top;\n",
       "    }\n",
       "\n",
       "    .dataframe thead th {\n",
       "        text-align: right;\n",
       "    }\n",
       "</style>\n",
       "<table border=\"1\" class=\"dataframe\">\n",
       "  <thead>\n",
       "    <tr style=\"text-align: right;\">\n",
       "      <th></th>\n",
       "      <th>param_n_features_to_select</th>\n",
       "      <th>mean_test_score</th>\n",
       "      <th>mean_train_score</th>\n",
       "    </tr>\n",
       "  </thead>\n",
       "  <tbody>\n",
       "    <tr>\n",
       "      <th>0</th>\n",
       "      <td>1</td>\n",
       "      <td>0.250445</td>\n",
       "      <td>0.255273</td>\n",
       "    </tr>\n",
       "    <tr>\n",
       "      <th>1</th>\n",
       "      <td>2</td>\n",
       "      <td>0.627130</td>\n",
       "      <td>0.628912</td>\n",
       "    </tr>\n",
       "    <tr>\n",
       "      <th>2</th>\n",
       "      <td>3</td>\n",
       "      <td>0.626570</td>\n",
       "      <td>0.628794</td>\n",
       "    </tr>\n",
       "    <tr>\n",
       "      <th>3</th>\n",
       "      <td>4</td>\n",
       "      <td>0.625781</td>\n",
       "      <td>0.629507</td>\n",
       "    </tr>\n",
       "    <tr>\n",
       "      <th>4</th>\n",
       "      <td>5</td>\n",
       "      <td>0.625433</td>\n",
       "      <td>0.629611</td>\n",
       "    </tr>\n",
       "    <tr>\n",
       "      <th>5</th>\n",
       "      <td>6</td>\n",
       "      <td>0.627351</td>\n",
       "      <td>0.631693</td>\n",
       "    </tr>\n",
       "    <tr>\n",
       "      <th>6</th>\n",
       "      <td>7</td>\n",
       "      <td>0.628878</td>\n",
       "      <td>0.632912</td>\n",
       "    </tr>\n",
       "    <tr>\n",
       "      <th>7</th>\n",
       "      <td>8</td>\n",
       "      <td>0.628794</td>\n",
       "      <td>0.633282</td>\n",
       "    </tr>\n",
       "    <tr>\n",
       "      <th>8</th>\n",
       "      <td>9</td>\n",
       "      <td>0.632132</td>\n",
       "      <td>0.635605</td>\n",
       "    </tr>\n",
       "    <tr>\n",
       "      <th>9</th>\n",
       "      <td>10</td>\n",
       "      <td>0.631467</td>\n",
       "      <td>0.636773</td>\n",
       "    </tr>\n",
       "    <tr>\n",
       "      <th>10</th>\n",
       "      <td>11</td>\n",
       "      <td>0.632510</td>\n",
       "      <td>0.637488</td>\n",
       "    </tr>\n",
       "    <tr>\n",
       "      <th>11</th>\n",
       "      <td>12</td>\n",
       "      <td>0.635269</td>\n",
       "      <td>0.643512</td>\n",
       "    </tr>\n",
       "    <tr>\n",
       "      <th>12</th>\n",
       "      <td>13</td>\n",
       "      <td>0.640365</td>\n",
       "      <td>0.649716</td>\n",
       "    </tr>\n",
       "    <tr>\n",
       "      <th>13</th>\n",
       "      <td>14</td>\n",
       "      <td>0.646862</td>\n",
       "      <td>0.653406</td>\n",
       "    </tr>\n",
       "    <tr>\n",
       "      <th>14</th>\n",
       "      <td>15</td>\n",
       "      <td>0.646740</td>\n",
       "      <td>0.653728</td>\n",
       "    </tr>\n",
       "    <tr>\n",
       "      <th>15</th>\n",
       "      <td>16</td>\n",
       "      <td>0.646190</td>\n",
       "      <td>0.653601</td>\n",
       "    </tr>\n",
       "    <tr>\n",
       "      <th>16</th>\n",
       "      <td>17</td>\n",
       "      <td>0.645024</td>\n",
       "      <td>0.654859</td>\n",
       "    </tr>\n",
       "    <tr>\n",
       "      <th>17</th>\n",
       "      <td>18</td>\n",
       "      <td>0.638058</td>\n",
       "      <td>0.657594</td>\n",
       "    </tr>\n",
       "    <tr>\n",
       "      <th>18</th>\n",
       "      <td>19</td>\n",
       "      <td>0.642754</td>\n",
       "      <td>0.659147</td>\n",
       "    </tr>\n",
       "    <tr>\n",
       "      <th>19</th>\n",
       "      <td>20</td>\n",
       "      <td>0.642754</td>\n",
       "      <td>0.659147</td>\n",
       "    </tr>\n",
       "  </tbody>\n",
       "</table>\n",
       "</div>"
      ],
      "text/plain": [
       "   param_n_features_to_select  mean_test_score  mean_train_score\n",
       "0                           1         0.250445          0.255273\n",
       "1                           2         0.627130          0.628912\n",
       "2                           3         0.626570          0.628794\n",
       "3                           4         0.625781          0.629507\n",
       "4                           5         0.625433          0.629611\n",
       "5                           6         0.627351          0.631693\n",
       "6                           7         0.628878          0.632912\n",
       "7                           8         0.628794          0.633282\n",
       "8                           9         0.632132          0.635605\n",
       "9                          10         0.631467          0.636773\n",
       "10                         11         0.632510          0.637488\n",
       "11                         12         0.635269          0.643512\n",
       "12                         13         0.640365          0.649716\n",
       "13                         14         0.646862          0.653406\n",
       "14                         15         0.646740          0.653728\n",
       "15                         16         0.646190          0.653601\n",
       "16                         17         0.645024          0.654859\n",
       "17                         18         0.638058          0.657594\n",
       "18                         19         0.642754          0.659147\n",
       "19                         20         0.642754          0.659147"
      ]
     },
     "execution_count": 50,
     "metadata": {},
     "output_type": "execute_result"
    }
   ],
   "source": [
    "cv_results = pd.DataFrame(model_cv.cv_results_)\n",
    "cv_results.loc[:,['param_n_features_to_select','mean_test_score','mean_train_score']]"
   ]
  },
  {
   "cell_type": "code",
   "execution_count": 47,
   "id": "f742f0cb",
   "metadata": {
    "ExecuteTime": {
     "end_time": "2022-04-07T23:23:31.527925Z",
     "start_time": "2022-04-07T23:23:30.516223Z"
    },
    "hidden": true
   },
   "outputs": [
    {
     "data": {
      "text/plain": [
       "<matplotlib.legend.Legend at 0x7ff1b9602850>"
      ]
     },
     "execution_count": 47,
     "metadata": {},
     "output_type": "execute_result"
    },
    {
     "data": {
      "image/png": "[encoded data removed]",
      "text/plain": [
       "<Figure size 1152x432 with 1 Axes>"
      ]
     },
     "metadata": {
      "needs_background": "light"
     },
     "output_type": "display_data"
    }
   ],
   "source": [
    "# plotting cv results\n",
    "plt.figure(figsize=(16,6))\n",
    "\n",
    "plt.plot(cv_results[\"param_n_features_to_select\"], cv_results[\"mean_test_score\"])\n",
    "plt.plot(cv_results[\"param_n_features_to_select\"], cv_results[\"mean_train_score\"])\n",
    "plt.xlabel('number of features')\n",
    "plt.ylabel('r-squared')\n",
    "plt.title(\"Optimal Number of Features\")\n",
    "plt.legend(['test score', 'train score'], loc='upper left')"
   ]
  },
  {
   "cell_type": "code",
   "execution_count": 54,
   "id": "e59a620e",
   "metadata": {
    "ExecuteTime": {
     "end_time": "2022-04-07T23:41:43.361522Z",
     "start_time": "2022-04-07T23:41:43.314882Z"
    },
    "hidden": true
   },
   "outputs": [],
   "source": [
    "# final model\n",
    "n_features_optimal = 14\n",
    "\n",
    "lm = LinearRegression()\n",
    "lm.fit(X_train, Y_train_cat)\n",
    "\n",
    "rfe = RFE(lm, n_features_to_select=n_features_optimal)             \n",
    "rfe = rfe.fit(X_train, Y_train_cat)\n",
    "\n",
    "# predict prices of X_test\n",
    "Y_pred_cat = lm.predict(X_test)\n",
    "# r2 = sklearn.metrics.r2_score(y_test, Y_pred_cat)\n",
    "# print(r2)"
   ]
  }
 ],
 "metadata": {
  "kernelspec": {
   "display_name": "Python 3 (ipykernel)",
   "language": "python",
   "name": "python3"
  },
  "language_info": {
   "codemirror_mode": {
    "name": "ipython",
    "version": 3
   },
   "file_extension": ".py",
   "mimetype": "text/x-python",
   "name": "python",
   "nbconvert_exporter": "python",
   "pygments_lexer": "ipython3",
   "version": "3.8.8"
  },
  "varInspector": {
   "cols": {
    "lenName": 16,
    "lenType": 16,
    "lenVar": 40
   },
   "kernels_config": {
    "python": {
     "delete_cmd_postfix": "",
     "delete_cmd_prefix": "del ",
     "library": "var_list.py",
     "varRefreshCmd": "print(var_dic_list())"
    },
    "r": {
     "delete_cmd_postfix": ") ",
     "delete_cmd_prefix": "rm(",
     "library": "var_list.r",
     "varRefreshCmd": "cat(var_dic_list()) "
    }
   },
   "types_to_exclude": [
    "module",
    "function",
    "builtin_function_or_method",
    "instance",
    "_Feature"
   ],
   "window_display": false
  }
 },
 "nbformat": 4,
 "nbformat_minor": 5
}
